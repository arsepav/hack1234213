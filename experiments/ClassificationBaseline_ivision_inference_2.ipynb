{
  "nbformat": 4,
  "nbformat_minor": 0,
  "metadata": {
    "kernelspec": {
      "name": "python3",
      "display_name": "Python 3"
    },
    "colab": {
      "name": "ClassificationBaseline_ivision_inference.ipynb",
      "provenance": [],
      "machine_shape": "hm"
    },
    "language_info": {
      "name": "python"
    },
    "accelerator": "GPU",
    "widgets": {
      "application/vnd.jupyter.widget-state+json": {
        "4300210bcf7d4ab395f29cbb6ae5c4c6": {
          "model_module": "@jupyter-widgets/controls",
          "model_name": "HBoxModel",
          "model_module_version": "1.5.0",
          "state": {
            "_view_name": "HBoxView",
            "_dom_classes": [],
            "_model_name": "HBoxModel",
            "_view_module": "@jupyter-widgets/controls",
            "_model_module_version": "1.5.0",
            "_view_count": null,
            "_view_module_version": "1.5.0",
            "box_style": "",
            "layout": "IPY_MODEL_1feed222c85d47d7b0e2d89d884caa97",
            "_model_module": "@jupyter-widgets/controls",
            "children": [
              "IPY_MODEL_8d78647465d941c7983af44a296b3480",
              "IPY_MODEL_08bd9eb015154275b16a8a3fbb5b8078",
              "IPY_MODEL_105472c42ed44709b3c448632589cf9e"
            ]
          }
        },
        "1feed222c85d47d7b0e2d89d884caa97": {
          "model_module": "@jupyter-widgets/base",
          "model_name": "LayoutModel",
          "model_module_version": "1.2.0",
          "state": {
            "_view_name": "LayoutView",
            "grid_template_rows": null,
            "right": null,
            "justify_content": null,
            "_view_module": "@jupyter-widgets/base",
            "overflow": null,
            "_model_module_version": "1.2.0",
            "_view_count": null,
            "flex_flow": null,
            "width": null,
            "min_width": null,
            "border": null,
            "align_items": null,
            "bottom": null,
            "_model_module": "@jupyter-widgets/base",
            "top": null,
            "grid_column": null,
            "overflow_y": null,
            "overflow_x": null,
            "grid_auto_flow": null,
            "grid_area": null,
            "grid_template_columns": null,
            "flex": null,
            "_model_name": "LayoutModel",
            "justify_items": null,
            "grid_row": null,
            "max_height": null,
            "align_content": null,
            "visibility": null,
            "align_self": null,
            "height": null,
            "min_height": null,
            "padding": null,
            "grid_auto_rows": null,
            "grid_gap": null,
            "max_width": null,
            "order": null,
            "_view_module_version": "1.2.0",
            "grid_template_areas": null,
            "object_position": null,
            "object_fit": null,
            "grid_auto_columns": null,
            "margin": null,
            "display": null,
            "left": null
          }
        },
        "8d78647465d941c7983af44a296b3480": {
          "model_module": "@jupyter-widgets/controls",
          "model_name": "HTMLModel",
          "model_module_version": "1.5.0",
          "state": {
            "_view_name": "HTMLView",
            "style": "IPY_MODEL_e408ac50afb94d4ab0c65fe25768aa24",
            "_dom_classes": [],
            "description": "",
            "_model_name": "HTMLModel",
            "placeholder": "​",
            "_view_module": "@jupyter-widgets/controls",
            "_model_module_version": "1.5.0",
            "value": "100%",
            "_view_count": null,
            "_view_module_version": "1.5.0",
            "description_tooltip": null,
            "_model_module": "@jupyter-widgets/controls",
            "layout": "IPY_MODEL_80ad82d8aae44da3a7e2895b8a456caa"
          }
        },
        "08bd9eb015154275b16a8a3fbb5b8078": {
          "model_module": "@jupyter-widgets/controls",
          "model_name": "FloatProgressModel",
          "model_module_version": "1.5.0",
          "state": {
            "_view_name": "ProgressView",
            "style": "IPY_MODEL_08e147ea234a4592ab8fc19980e02c7f",
            "_dom_classes": [],
            "description": "",
            "_model_name": "FloatProgressModel",
            "bar_style": "success",
            "max": 2,
            "_view_module": "@jupyter-widgets/controls",
            "_model_module_version": "1.5.0",
            "value": 2,
            "_view_count": null,
            "_view_module_version": "1.5.0",
            "orientation": "horizontal",
            "min": 0,
            "description_tooltip": null,
            "_model_module": "@jupyter-widgets/controls",
            "layout": "IPY_MODEL_519221670c2b4a7fb0cc1976ea23b223"
          }
        },
        "105472c42ed44709b3c448632589cf9e": {
          "model_module": "@jupyter-widgets/controls",
          "model_name": "HTMLModel",
          "model_module_version": "1.5.0",
          "state": {
            "_view_name": "HTMLView",
            "style": "IPY_MODEL_ac3748d92f3d408480b7d364e66deb67",
            "_dom_classes": [],
            "description": "",
            "_model_name": "HTMLModel",
            "placeholder": "​",
            "_view_module": "@jupyter-widgets/controls",
            "_model_module_version": "1.5.0",
            "value": " 2/2 [02:41&lt;00:00, 161.98s/it]",
            "_view_count": null,
            "_view_module_version": "1.5.0",
            "description_tooltip": null,
            "_model_module": "@jupyter-widgets/controls",
            "layout": "IPY_MODEL_b2b8f00e57db4b4fba41cf28aabb7761"
          }
        },
        "e408ac50afb94d4ab0c65fe25768aa24": {
          "model_module": "@jupyter-widgets/controls",
          "model_name": "DescriptionStyleModel",
          "model_module_version": "1.5.0",
          "state": {
            "_view_name": "StyleView",
            "_model_name": "DescriptionStyleModel",
            "description_width": "",
            "_view_module": "@jupyter-widgets/base",
            "_model_module_version": "1.5.0",
            "_view_count": null,
            "_view_module_version": "1.2.0",
            "_model_module": "@jupyter-widgets/controls"
          }
        },
        "80ad82d8aae44da3a7e2895b8a456caa": {
          "model_module": "@jupyter-widgets/base",
          "model_name": "LayoutModel",
          "model_module_version": "1.2.0",
          "state": {
            "_view_name": "LayoutView",
            "grid_template_rows": null,
            "right": null,
            "justify_content": null,
            "_view_module": "@jupyter-widgets/base",
            "overflow": null,
            "_model_module_version": "1.2.0",
            "_view_count": null,
            "flex_flow": null,
            "width": null,
            "min_width": null,
            "border": null,
            "align_items": null,
            "bottom": null,
            "_model_module": "@jupyter-widgets/base",
            "top": null,
            "grid_column": null,
            "overflow_y": null,
            "overflow_x": null,
            "grid_auto_flow": null,
            "grid_area": null,
            "grid_template_columns": null,
            "flex": null,
            "_model_name": "LayoutModel",
            "justify_items": null,
            "grid_row": null,
            "max_height": null,
            "align_content": null,
            "visibility": null,
            "align_self": null,
            "height": null,
            "min_height": null,
            "padding": null,
            "grid_auto_rows": null,
            "grid_gap": null,
            "max_width": null,
            "order": null,
            "_view_module_version": "1.2.0",
            "grid_template_areas": null,
            "object_position": null,
            "object_fit": null,
            "grid_auto_columns": null,
            "margin": null,
            "display": null,
            "left": null
          }
        },
        "08e147ea234a4592ab8fc19980e02c7f": {
          "model_module": "@jupyter-widgets/controls",
          "model_name": "ProgressStyleModel",
          "model_module_version": "1.5.0",
          "state": {
            "_view_name": "StyleView",
            "_model_name": "ProgressStyleModel",
            "description_width": "",
            "_view_module": "@jupyter-widgets/base",
            "_model_module_version": "1.5.0",
            "_view_count": null,
            "_view_module_version": "1.2.0",
            "bar_color": null,
            "_model_module": "@jupyter-widgets/controls"
          }
        },
        "519221670c2b4a7fb0cc1976ea23b223": {
          "model_module": "@jupyter-widgets/base",
          "model_name": "LayoutModel",
          "model_module_version": "1.2.0",
          "state": {
            "_view_name": "LayoutView",
            "grid_template_rows": null,
            "right": null,
            "justify_content": null,
            "_view_module": "@jupyter-widgets/base",
            "overflow": null,
            "_model_module_version": "1.2.0",
            "_view_count": null,
            "flex_flow": null,
            "width": null,
            "min_width": null,
            "border": null,
            "align_items": null,
            "bottom": null,
            "_model_module": "@jupyter-widgets/base",
            "top": null,
            "grid_column": null,
            "overflow_y": null,
            "overflow_x": null,
            "grid_auto_flow": null,
            "grid_area": null,
            "grid_template_columns": null,
            "flex": null,
            "_model_name": "LayoutModel",
            "justify_items": null,
            "grid_row": null,
            "max_height": null,
            "align_content": null,
            "visibility": null,
            "align_self": null,
            "height": null,
            "min_height": null,
            "padding": null,
            "grid_auto_rows": null,
            "grid_gap": null,
            "max_width": null,
            "order": null,
            "_view_module_version": "1.2.0",
            "grid_template_areas": null,
            "object_position": null,
            "object_fit": null,
            "grid_auto_columns": null,
            "margin": null,
            "display": null,
            "left": null
          }
        },
        "ac3748d92f3d408480b7d364e66deb67": {
          "model_module": "@jupyter-widgets/controls",
          "model_name": "DescriptionStyleModel",
          "model_module_version": "1.5.0",
          "state": {
            "_view_name": "StyleView",
            "_model_name": "DescriptionStyleModel",
            "description_width": "",
            "_view_module": "@jupyter-widgets/base",
            "_model_module_version": "1.5.0",
            "_view_count": null,
            "_view_module_version": "1.2.0",
            "_model_module": "@jupyter-widgets/controls"
          }
        },
        "b2b8f00e57db4b4fba41cf28aabb7761": {
          "model_module": "@jupyter-widgets/base",
          "model_name": "LayoutModel",
          "model_module_version": "1.2.0",
          "state": {
            "_view_name": "LayoutView",
            "grid_template_rows": null,
            "right": null,
            "justify_content": null,
            "_view_module": "@jupyter-widgets/base",
            "overflow": null,
            "_model_module_version": "1.2.0",
            "_view_count": null,
            "flex_flow": null,
            "width": null,
            "min_width": null,
            "border": null,
            "align_items": null,
            "bottom": null,
            "_model_module": "@jupyter-widgets/base",
            "top": null,
            "grid_column": null,
            "overflow_y": null,
            "overflow_x": null,
            "grid_auto_flow": null,
            "grid_area": null,
            "grid_template_columns": null,
            "flex": null,
            "_model_name": "LayoutModel",
            "justify_items": null,
            "grid_row": null,
            "max_height": null,
            "align_content": null,
            "visibility": null,
            "align_self": null,
            "height": null,
            "min_height": null,
            "padding": null,
            "grid_auto_rows": null,
            "grid_gap": null,
            "max_width": null,
            "order": null,
            "_view_module_version": "1.2.0",
            "grid_template_areas": null,
            "object_position": null,
            "object_fit": null,
            "grid_auto_columns": null,
            "margin": null,
            "display": null,
            "left": null
          }
        },
        "5d2772c1486341268dfd467d0cc22392": {
          "model_module": "@jupyter-widgets/controls",
          "model_name": "HBoxModel",
          "model_module_version": "1.5.0",
          "state": {
            "_view_name": "HBoxView",
            "_dom_classes": [],
            "_model_name": "HBoxModel",
            "_view_module": "@jupyter-widgets/controls",
            "_model_module_version": "1.5.0",
            "_view_count": null,
            "_view_module_version": "1.5.0",
            "box_style": "",
            "layout": "IPY_MODEL_5b607d841b72473e923fffb9bffceb91",
            "_model_module": "@jupyter-widgets/controls",
            "children": [
              "IPY_MODEL_22c710e9f4b94e15bfa98e995f6832e3",
              "IPY_MODEL_80eee0205323465bb61e59310524f012",
              "IPY_MODEL_37487658fd824fe8b54521712229520e"
            ]
          }
        },
        "5b607d841b72473e923fffb9bffceb91": {
          "model_module": "@jupyter-widgets/base",
          "model_name": "LayoutModel",
          "model_module_version": "1.2.0",
          "state": {
            "_view_name": "LayoutView",
            "grid_template_rows": null,
            "right": null,
            "justify_content": null,
            "_view_module": "@jupyter-widgets/base",
            "overflow": null,
            "_model_module_version": "1.2.0",
            "_view_count": null,
            "flex_flow": null,
            "width": null,
            "min_width": null,
            "border": null,
            "align_items": null,
            "bottom": null,
            "_model_module": "@jupyter-widgets/base",
            "top": null,
            "grid_column": null,
            "overflow_y": null,
            "overflow_x": null,
            "grid_auto_flow": null,
            "grid_area": null,
            "grid_template_columns": null,
            "flex": null,
            "_model_name": "LayoutModel",
            "justify_items": null,
            "grid_row": null,
            "max_height": null,
            "align_content": null,
            "visibility": null,
            "align_self": null,
            "height": null,
            "min_height": null,
            "padding": null,
            "grid_auto_rows": null,
            "grid_gap": null,
            "max_width": null,
            "order": null,
            "_view_module_version": "1.2.0",
            "grid_template_areas": null,
            "object_position": null,
            "object_fit": null,
            "grid_auto_columns": null,
            "margin": null,
            "display": null,
            "left": null
          }
        },
        "22c710e9f4b94e15bfa98e995f6832e3": {
          "model_module": "@jupyter-widgets/controls",
          "model_name": "HTMLModel",
          "model_module_version": "1.5.0",
          "state": {
            "_view_name": "HTMLView",
            "style": "IPY_MODEL_363d0ccf0d7e483093067fc373f81634",
            "_dom_classes": [],
            "description": "",
            "_model_name": "HTMLModel",
            "placeholder": "​",
            "_view_module": "@jupyter-widgets/controls",
            "_model_module_version": "1.5.0",
            "value": "100%",
            "_view_count": null,
            "_view_module_version": "1.5.0",
            "description_tooltip": null,
            "_model_module": "@jupyter-widgets/controls",
            "layout": "IPY_MODEL_cb9527b49fd442bf904becadb3b3ff2c"
          }
        },
        "80eee0205323465bb61e59310524f012": {
          "model_module": "@jupyter-widgets/controls",
          "model_name": "FloatProgressModel",
          "model_module_version": "1.5.0",
          "state": {
            "_view_name": "ProgressView",
            "style": "IPY_MODEL_409847420de94d40940b423a98c274d6",
            "_dom_classes": [],
            "description": "",
            "_model_name": "FloatProgressModel",
            "bar_style": "success",
            "max": 14,
            "_view_module": "@jupyter-widgets/controls",
            "_model_module_version": "1.5.0",
            "value": 14,
            "_view_count": null,
            "_view_module_version": "1.5.0",
            "orientation": "horizontal",
            "min": 0,
            "description_tooltip": null,
            "_model_module": "@jupyter-widgets/controls",
            "layout": "IPY_MODEL_79a7c16796d84f41a6b8f2dc838e55cd"
          }
        },
        "37487658fd824fe8b54521712229520e": {
          "model_module": "@jupyter-widgets/controls",
          "model_name": "HTMLModel",
          "model_module_version": "1.5.0",
          "state": {
            "_view_name": "HTMLView",
            "style": "IPY_MODEL_f122801db4664ca39089b96aba782257",
            "_dom_classes": [],
            "description": "",
            "_model_name": "HTMLModel",
            "placeholder": "​",
            "_view_module": "@jupyter-widgets/controls",
            "_model_module_version": "1.5.0",
            "value": " 14/14 [01:33&lt;00:00,  5.21s/it]",
            "_view_count": null,
            "_view_module_version": "1.5.0",
            "description_tooltip": null,
            "_model_module": "@jupyter-widgets/controls",
            "layout": "IPY_MODEL_34695493dbba45eaa9f27865dfad45ab"
          }
        },
        "363d0ccf0d7e483093067fc373f81634": {
          "model_module": "@jupyter-widgets/controls",
          "model_name": "DescriptionStyleModel",
          "model_module_version": "1.5.0",
          "state": {
            "_view_name": "StyleView",
            "_model_name": "DescriptionStyleModel",
            "description_width": "",
            "_view_module": "@jupyter-widgets/base",
            "_model_module_version": "1.5.0",
            "_view_count": null,
            "_view_module_version": "1.2.0",
            "_model_module": "@jupyter-widgets/controls"
          }
        },
        "cb9527b49fd442bf904becadb3b3ff2c": {
          "model_module": "@jupyter-widgets/base",
          "model_name": "LayoutModel",
          "model_module_version": "1.2.0",
          "state": {
            "_view_name": "LayoutView",
            "grid_template_rows": null,
            "right": null,
            "justify_content": null,
            "_view_module": "@jupyter-widgets/base",
            "overflow": null,
            "_model_module_version": "1.2.0",
            "_view_count": null,
            "flex_flow": null,
            "width": null,
            "min_width": null,
            "border": null,
            "align_items": null,
            "bottom": null,
            "_model_module": "@jupyter-widgets/base",
            "top": null,
            "grid_column": null,
            "overflow_y": null,
            "overflow_x": null,
            "grid_auto_flow": null,
            "grid_area": null,
            "grid_template_columns": null,
            "flex": null,
            "_model_name": "LayoutModel",
            "justify_items": null,
            "grid_row": null,
            "max_height": null,
            "align_content": null,
            "visibility": null,
            "align_self": null,
            "height": null,
            "min_height": null,
            "padding": null,
            "grid_auto_rows": null,
            "grid_gap": null,
            "max_width": null,
            "order": null,
            "_view_module_version": "1.2.0",
            "grid_template_areas": null,
            "object_position": null,
            "object_fit": null,
            "grid_auto_columns": null,
            "margin": null,
            "display": null,
            "left": null
          }
        },
        "409847420de94d40940b423a98c274d6": {
          "model_module": "@jupyter-widgets/controls",
          "model_name": "ProgressStyleModel",
          "model_module_version": "1.5.0",
          "state": {
            "_view_name": "StyleView",
            "_model_name": "ProgressStyleModel",
            "description_width": "",
            "_view_module": "@jupyter-widgets/base",
            "_model_module_version": "1.5.0",
            "_view_count": null,
            "_view_module_version": "1.2.0",
            "bar_color": null,
            "_model_module": "@jupyter-widgets/controls"
          }
        },
        "79a7c16796d84f41a6b8f2dc838e55cd": {
          "model_module": "@jupyter-widgets/base",
          "model_name": "LayoutModel",
          "model_module_version": "1.2.0",
          "state": {
            "_view_name": "LayoutView",
            "grid_template_rows": null,
            "right": null,
            "justify_content": null,
            "_view_module": "@jupyter-widgets/base",
            "overflow": null,
            "_model_module_version": "1.2.0",
            "_view_count": null,
            "flex_flow": null,
            "width": null,
            "min_width": null,
            "border": null,
            "align_items": null,
            "bottom": null,
            "_model_module": "@jupyter-widgets/base",
            "top": null,
            "grid_column": null,
            "overflow_y": null,
            "overflow_x": null,
            "grid_auto_flow": null,
            "grid_area": null,
            "grid_template_columns": null,
            "flex": null,
            "_model_name": "LayoutModel",
            "justify_items": null,
            "grid_row": null,
            "max_height": null,
            "align_content": null,
            "visibility": null,
            "align_self": null,
            "height": null,
            "min_height": null,
            "padding": null,
            "grid_auto_rows": null,
            "grid_gap": null,
            "max_width": null,
            "order": null,
            "_view_module_version": "1.2.0",
            "grid_template_areas": null,
            "object_position": null,
            "object_fit": null,
            "grid_auto_columns": null,
            "margin": null,
            "display": null,
            "left": null
          }
        },
        "f122801db4664ca39089b96aba782257": {
          "model_module": "@jupyter-widgets/controls",
          "model_name": "DescriptionStyleModel",
          "model_module_version": "1.5.0",
          "state": {
            "_view_name": "StyleView",
            "_model_name": "DescriptionStyleModel",
            "description_width": "",
            "_view_module": "@jupyter-widgets/base",
            "_model_module_version": "1.5.0",
            "_view_count": null,
            "_view_module_version": "1.2.0",
            "_model_module": "@jupyter-widgets/controls"
          }
        },
        "34695493dbba45eaa9f27865dfad45ab": {
          "model_module": "@jupyter-widgets/base",
          "model_name": "LayoutModel",
          "model_module_version": "1.2.0",
          "state": {
            "_view_name": "LayoutView",
            "grid_template_rows": null,
            "right": null,
            "justify_content": null,
            "_view_module": "@jupyter-widgets/base",
            "overflow": null,
            "_model_module_version": "1.2.0",
            "_view_count": null,
            "flex_flow": null,
            "width": null,
            "min_width": null,
            "border": null,
            "align_items": null,
            "bottom": null,
            "_model_module": "@jupyter-widgets/base",
            "top": null,
            "grid_column": null,
            "overflow_y": null,
            "overflow_x": null,
            "grid_auto_flow": null,
            "grid_area": null,
            "grid_template_columns": null,
            "flex": null,
            "_model_name": "LayoutModel",
            "justify_items": null,
            "grid_row": null,
            "max_height": null,
            "align_content": null,
            "visibility": null,
            "align_self": null,
            "height": null,
            "min_height": null,
            "padding": null,
            "grid_auto_rows": null,
            "grid_gap": null,
            "max_width": null,
            "order": null,
            "_view_module_version": "1.2.0",
            "grid_template_areas": null,
            "object_position": null,
            "object_fit": null,
            "grid_auto_columns": null,
            "margin": null,
            "display": null,
            "left": null
          }
        }
      }
    }
  },
  "cells": [
    {
      "cell_type": "markdown",
      "source": [
        "## Загрузка данных"
      ],
      "metadata": {
        "id": "KWrjHXMiRsSk"
      }
    },
    {
      "cell_type": "code",
      "source": [
        "# скачиваем тесты с гугл диска\n",
        "# структура файла test.zip:\n",
        "#     test:\n",
        "#         1.mp4\n",
        "#         2.mp4\n",
        "#         ...\n",
        "!gdown -O test.zip https://drive.google.com/uc?id=1xnxF7k-a0OuPElPSn7PUc6VfovGoPm4H\n",
        "!unzip -u test.zip"
      ],
      "metadata": {
        "colab": {
          "base_uri": "https://localhost:8080/"
        },
        "id": "AAJA9syu4qD1",
        "outputId": "5d8cbd4a-cc79-410e-be3f-a953ca8ddbee"
      },
      "execution_count": 1,
      "outputs": [
        {
          "output_type": "stream",
          "name": "stdout",
          "text": [
            "Downloading...\n",
            "From: https://drive.google.com/uc?id=1xnxF7k-a0OuPElPSn7PUc6VfovGoPm4H\n",
            "To: /content/test.zip\n",
            "100% 69.1M/69.1M [00:01<00:00, 41.4MB/s]\n",
            "Archive:  test.zip\n"
          ]
        }
      ]
    },
    {
      "cell_type": "code",
      "source": [
        "!rm -rf test/images\n",
        "!mkdir -p test/images"
      ],
      "metadata": {
        "id": "drjbujo_6lzb"
      },
      "execution_count": 2,
      "outputs": []
    },
    {
      "cell_type": "code",
      "source": [
        "%%capture\n",
        "!pip install git+https://github.com/openai/CLIP.git\n",
        "!wget https://getfile.dokpub.com/yandex/get/https://disk.yandex.ru/d/CHnmggS2yBp02Q -O ViT_B_32_epoch_2.pth #Скачиваем файл поулченный при обученни модели"
      ],
      "metadata": {
        "id": "8Vbg8Woy5RRR"
      },
      "execution_count": 3,
      "outputs": []
    },
    {
      "cell_type": "markdown",
      "source": [
        "## Загрузка модели"
      ],
      "metadata": {
        "id": "F8rnhc_WRfhg"
      }
    },
    {
      "cell_type": "code",
      "metadata": {
        "id": "0h71PuSEat9z"
      },
      "source": [
        "from tqdm.notebook import tqdm\n",
        "import os\n",
        "from collections import defaultdict\n",
        "import random\n",
        "\n",
        "import torch\n",
        "import torch.nn as nn\n",
        "import torch.optim as optim\n",
        "from torch.utils.data import Dataset\n",
        "from torchvision import datasets, models, transforms\n",
        "\n",
        "from PIL import Image\n",
        "import clip\n",
        "import cv2\n",
        "import json\n",
        "import numpy as np"
      ],
      "execution_count": 4,
      "outputs": []
    },
    {
      "cell_type": "code",
      "source": [
        "# для удобного взаимодействия, предстваим видео в формате отдельных изображений\n",
        "def convert2img(path2read: str, path2save: str, n: int = 10):\n",
        "    vidcap = cv2.VideoCapture(path2read)\n",
        "    filename = path2read.split(\"/\")[-1]\n",
        "    size = (224, 224)\n",
        "    count = 1\n",
        "\n",
        "    while True:\n",
        "        success, image = vidcap.read()\n",
        "        if not success:\n",
        "            break\n",
        "        if n and (count % n):\n",
        "            image = cv2.resize(image, size)\n",
        "            # формтат названия: {имя исходного видео}_{номер кадра видео}.png\n",
        "            cv2.imwrite(f\"{path2save}/{filename[:-4]}_{count}.png\", image)\n",
        "        else:\n",
        "            # формтат названия: {имя исходного видео}_{номер кадра видео}.png\n",
        "            cv2.imwrite(f\"{path2save}/{filename[:-4]}_{count}.png\", image)\n",
        "        count += 1\n",
        "\n",
        "    print(f\"Done: {filename[:100]}\")\n",
        "\n",
        "    vidcap.release()\n",
        "    return filename"
      ],
      "metadata": {
        "id": "EM-h2XyFQ9R_"
      },
      "execution_count": 5,
      "outputs": []
    },
    {
      "cell_type": "code",
      "source": [
        "device = torch.device('cuda' if torch.cuda.is_available() else 'cpu')\n",
        "model, preprocess = clip.load(\"ViT-B/32\", device=device)\n",
        "model = model.visual.float()"
      ],
      "metadata": {
        "id": "JIKbri28UZun"
      },
      "execution_count": 6,
      "outputs": []
    },
    {
      "cell_type": "code",
      "metadata": {
        "id": "Xffd3h6fbwHP"
      },
      "source": [
        "class ViT_B_32(nn.Module):\n",
        "    def __init__(self, model):\n",
        "        super().__init__()\n",
        "        self.vit = model.to(device)\n",
        "        self.new_emb = nn.Linear(512, 384).to(device)\n",
        "        self.norm = nn.LayerNorm(384).to(device)\n",
        "        self.fc = nn.Linear(384, 2).to(device)\n",
        "\n",
        "    def forward(self, x):\n",
        "        h = self.vit(x).float()\n",
        "        h = self.new_emb(h).float()\n",
        "        h = self.norm(h).float()\n",
        "        h = self.fc(h).float()\n",
        "        return h"
      ],
      "execution_count": 7,
      "outputs": []
    },
    {
      "cell_type": "code",
      "metadata": {
        "id": "okwq2Vokat-J"
      },
      "source": [
        "random.seed(42)\n",
        "np.random.seed(42)\n",
        "torch.manual_seed(42)\n",
        "torch.cuda.manual_seed(42)\n",
        "\n",
        "model = ViT_B_32(model)"
      ],
      "execution_count": 8,
      "outputs": []
    },
    {
      "cell_type": "code",
      "source": [
        "PATH = \"ViT_B_32_epoch_2.pth\"\n",
        "model.load_state_dict(torch.load(PATH, map_location=torch.device(device)))\n",
        "model.eval()\n",
        "for x in model.parameters(): x.requires_grad = False"
      ],
      "metadata": {
        "id": "n11oWB5b50qP"
      },
      "execution_count": 11,
      "outputs": []
    },
    {
      "cell_type": "markdown",
      "source": [
        "### Подготовка теста"
      ],
      "metadata": {
        "id": "O2tkPxmSpJOL"
      }
    },
    {
      "cell_type": "code",
      "source": [
        "for filename in tqdm(os.listdir(\"test\")):\n",
        "    if filename.endswith(\".mp4\"):\n",
        "        convert2img(path2read=f\"test/{filename}\",\n",
        "                    path2save=\"test/images/\",\n",
        "                    n=0) # сохраняем каждый кадр"
      ],
      "metadata": {
        "colab": {
          "base_uri": "https://localhost:8080/",
          "height": 66,
          "referenced_widgets": [
            "4300210bcf7d4ab395f29cbb6ae5c4c6",
            "1feed222c85d47d7b0e2d89d884caa97",
            "8d78647465d941c7983af44a296b3480",
            "08bd9eb015154275b16a8a3fbb5b8078",
            "105472c42ed44709b3c448632589cf9e",
            "e408ac50afb94d4ab0c65fe25768aa24",
            "80ad82d8aae44da3a7e2895b8a456caa",
            "08e147ea234a4592ab8fc19980e02c7f",
            "519221670c2b4a7fb0cc1976ea23b223",
            "ac3748d92f3d408480b7d364e66deb67",
            "b2b8f00e57db4b4fba41cf28aabb7761"
          ]
        },
        "id": "Kadh5f_Lphmb",
        "outputId": "937417f5-d97d-4ccd-c75e-07a8f81ab0a8"
      },
      "execution_count": 12,
      "outputs": [
        {
          "output_type": "display_data",
          "data": {
            "application/vnd.jupyter.widget-view+json": {
              "model_id": "4300210bcf7d4ab395f29cbb6ae5c4c6",
              "version_minor": 0,
              "version_major": 2
            },
            "text/plain": [
              "  0%|          | 0/2 [00:00<?, ?it/s]"
            ]
          },
          "metadata": {}
        },
        {
          "output_type": "stream",
          "name": "stdout",
          "text": [
            "Done: 2.mp4\n"
          ]
        }
      ]
    },
    {
      "cell_type": "code",
      "source": [
        "test_data = os.listdir(\"test/images/\")"
      ],
      "metadata": {
        "id": "9Cua7l1QqTG2"
      },
      "execution_count": 13,
      "outputs": []
    },
    {
      "cell_type": "code",
      "metadata": {
        "id": "lNf3ag-Plq-7"
      },
      "source": [
        "class AccidentDatasetTest(Dataset):\n",
        "    def __init__(self, data_prep, transform=None,\n",
        "                 folder:str=\"/content/\"):\n",
        "        self.data_prep = data_prep\n",
        "        self.transform = transform\n",
        "        self.folder = folder\n",
        "\n",
        "    def __getitem__(self, idx):\n",
        "        image_name = self.data_prep[idx]\n",
        "        image = Image.open(os.path.join(self.folder, image_name))\n",
        "        if self.transform:\n",
        "            image = self.transform(image)\n",
        "        return image, image_name\n",
        "    \n",
        "    def __len__(self):\n",
        "        return len(self.data_prep)"
      ],
      "execution_count": 14,
      "outputs": []
    },
    {
      "cell_type": "code",
      "metadata": {
        "id": "J7-d7Q4xj7qw"
      },
      "source": [
        "test_dataset = AccidentDatasetTest(test_data, preprocess,\n",
        "                                   folder=\"test/images/\")\n",
        "\n",
        "test_loader = torch.utils.data.DataLoader(dataset=test_dataset,\n",
        "                                          batch_size=128,\n",
        "                                          pin_memory=True,\n",
        "                                          num_workers=2,\n",
        "                                          shuffle=False)"
      ],
      "execution_count": 15,
      "outputs": []
    },
    {
      "cell_type": "markdown",
      "source": [
        "### Прдесказание"
      ],
      "metadata": {
        "id": "lFxZB8RK63im"
      }
    },
    {
      "cell_type": "code",
      "metadata": {
        "colab": {
          "base_uri": "https://localhost:8080/",
          "height": 49,
          "referenced_widgets": [
            "5d2772c1486341268dfd467d0cc22392",
            "5b607d841b72473e923fffb9bffceb91",
            "22c710e9f4b94e15bfa98e995f6832e3",
            "80eee0205323465bb61e59310524f012",
            "37487658fd824fe8b54521712229520e",
            "363d0ccf0d7e483093067fc373f81634",
            "cb9527b49fd442bf904becadb3b3ff2c",
            "409847420de94d40940b423a98c274d6",
            "79a7c16796d84f41a6b8f2dc838e55cd",
            "f122801db4664ca39089b96aba782257",
            "34695493dbba45eaa9f27865dfad45ab"
          ]
        },
        "id": "EalpyoQTlAlx",
        "outputId": "531347b8-e8ce-4b80-9836-2f1bec7ab35f"
      },
      "source": [
        "test_pred = defaultdict(list)\n",
        "model.eval()\n",
        "with torch.no_grad():\n",
        "    for imgs, image_name in tqdm(test_loader):\n",
        "        imgs = imgs.to(device)\n",
        "        pred = model(imgs)\n",
        "        for pred_, filename in zip(pred.argmax(1).cpu().detach().numpy(),\n",
        "                                   image_name):\n",
        "            test_pred[int(filename.split(\"_\")[0])].append([filename, pred_])"
      ],
      "execution_count": 16,
      "outputs": [
        {
          "output_type": "display_data",
          "data": {
            "application/vnd.jupyter.widget-view+json": {
              "model_id": "5d2772c1486341268dfd467d0cc22392",
              "version_minor": 0,
              "version_major": 2
            },
            "text/plain": [
              "  0%|          | 0/14 [00:00<?, ?it/s]"
            ]
          },
          "metadata": {}
        }
      ]
    },
    {
      "cell_type": "code",
      "source": [
        "for key in test_pred:\n",
        "    test_pred[key] = sorted(test_pred[key],\n",
        "                            key=lambda x: int(x[0].split(\"_\")[1][:-4]))"
      ],
      "metadata": {
        "id": "QJKiK4iwr543"
      },
      "execution_count": 17,
      "outputs": []
    },
    {
      "cell_type": "code",
      "source": [
        "final_output = defaultdict(list)\n",
        "threshold1 = 0.09\n",
        "threshold2 = 0.14\n",
        "for key in test_pred:\n",
        "    pred_targets = sum(i[1] for i in test_pred[key])\n",
        "    max_length = max(map(len, \"\".join(str(i[1]) for i in test_pred[key]).split(\"0\")))\n",
        "    score1 = max_length / len(test_pred[key])\n",
        "    score2 = pred_targets / len(test_pred[key])\n",
        "    # final_output[имя видео без .mp4][\"pred_by_img\"] - для просмотра предсказаний по каждому кадру\n",
        "    # final_output[имя видео без .mp4][\"result\"][2] - для просмотра предсказания по конкретному видео\n",
        "    final_output[int(key)] = {\"pred_by_img\": [[i[0], int(i[1])] for i in test_pred[key]],\n",
        "                              \"result\": [score1, score2, (score1 >= threshold1) or (score2 >= threshold2)]}"
      ],
      "metadata": {
        "id": "wWTnTBRgrsFz"
      },
      "execution_count": 18,
      "outputs": []
    },
    {
      "cell_type": "code",
      "source": [
        "with open(\"results.json\", \"w\") as f:\n",
        "    json.dump(final_output, f)"
      ],
      "metadata": {
        "id": "n47AAziHw6D5"
      },
      "execution_count": 19,
      "outputs": []
    },
    {
      "cell_type": "code",
      "source": [
        ""
      ],
      "metadata": {
        "id": "qmCanUttYdds"
      },
      "execution_count": 19,
      "outputs": []
    }
  ]
}