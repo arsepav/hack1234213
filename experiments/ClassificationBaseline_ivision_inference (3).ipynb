{
  "nbformat": 4,
  "nbformat_minor": 0,
  "metadata": {
    "kernelspec": {
      "name": "python3",
      "display_name": "Python 3"
    },
    "colab": {
      "name": "ClassificationBaseline_ivision_inference.ipynb",
      "provenance": [],
      "machine_shape": "hm"
    },
    "language_info": {
      "name": "python"
    },
    "accelerator": "GPU",
    "widgets": {
      "application/vnd.jupyter.widget-state+json": {
        "f98ba93badb04ff3a8964695e5024914": {
          "model_module": "@jupyter-widgets/controls",
          "model_name": "HBoxModel",
          "model_module_version": "1.5.0",
          "state": {
            "_view_name": "HBoxView",
            "_dom_classes": [],
            "_model_name": "HBoxModel",
            "_view_module": "@jupyter-widgets/controls",
            "_model_module_version": "1.5.0",
            "_view_count": null,
            "_view_module_version": "1.5.0",
            "box_style": "",
            "layout": "IPY_MODEL_b8d72b6254004cd7aa708e229659dbfb",
            "_model_module": "@jupyter-widgets/controls",
            "children": [
              "IPY_MODEL_d9f8c3c30f9c45c78f13bad64563da16",
              "IPY_MODEL_c146a76465894c469d0d42be3fbec692",
              "IPY_MODEL_21fc24c8a5c94ff2b0b273b507b8cb86"
            ]
          }
        },
        "b8d72b6254004cd7aa708e229659dbfb": {
          "model_module": "@jupyter-widgets/base",
          "model_name": "LayoutModel",
          "model_module_version": "1.2.0",
          "state": {
            "_view_name": "LayoutView",
            "grid_template_rows": null,
            "right": null,
            "justify_content": null,
            "_view_module": "@jupyter-widgets/base",
            "overflow": null,
            "_model_module_version": "1.2.0",
            "_view_count": null,
            "flex_flow": null,
            "width": null,
            "min_width": null,
            "border": null,
            "align_items": null,
            "bottom": null,
            "_model_module": "@jupyter-widgets/base",
            "top": null,
            "grid_column": null,
            "overflow_y": null,
            "overflow_x": null,
            "grid_auto_flow": null,
            "grid_area": null,
            "grid_template_columns": null,
            "flex": null,
            "_model_name": "LayoutModel",
            "justify_items": null,
            "grid_row": null,
            "max_height": null,
            "align_content": null,
            "visibility": null,
            "align_self": null,
            "height": null,
            "min_height": null,
            "padding": null,
            "grid_auto_rows": null,
            "grid_gap": null,
            "max_width": null,
            "order": null,
            "_view_module_version": "1.2.0",
            "grid_template_areas": null,
            "object_position": null,
            "object_fit": null,
            "grid_auto_columns": null,
            "margin": null,
            "display": null,
            "left": null
          }
        },
        "d9f8c3c30f9c45c78f13bad64563da16": {
          "model_module": "@jupyter-widgets/controls",
          "model_name": "HTMLModel",
          "model_module_version": "1.5.0",
          "state": {
            "_view_name": "HTMLView",
            "style": "IPY_MODEL_ed8fd7a0003d4517bce0f7424ea46c2e",
            "_dom_classes": [],
            "description": "",
            "_model_name": "HTMLModel",
            "placeholder": "​",
            "_view_module": "@jupyter-widgets/controls",
            "_model_module_version": "1.5.0",
            "value": "100%",
            "_view_count": null,
            "_view_module_version": "1.5.0",
            "description_tooltip": null,
            "_model_module": "@jupyter-widgets/controls",
            "layout": "IPY_MODEL_90176d86edb64d308c551b5249f2e551"
          }
        },
        "c146a76465894c469d0d42be3fbec692": {
          "model_module": "@jupyter-widgets/controls",
          "model_name": "FloatProgressModel",
          "model_module_version": "1.5.0",
          "state": {
            "_view_name": "ProgressView",
            "style": "IPY_MODEL_241b06774dc7443c8572011285b5fd3e",
            "_dom_classes": [],
            "description": "",
            "_model_name": "FloatProgressModel",
            "bar_style": "success",
            "max": 2,
            "_view_module": "@jupyter-widgets/controls",
            "_model_module_version": "1.5.0",
            "value": 2,
            "_view_count": null,
            "_view_module_version": "1.5.0",
            "orientation": "horizontal",
            "min": 0,
            "description_tooltip": null,
            "_model_module": "@jupyter-widgets/controls",
            "layout": "IPY_MODEL_b465ded112cf418a865a71d2e0839ba9"
          }
        },
        "21fc24c8a5c94ff2b0b273b507b8cb86": {
          "model_module": "@jupyter-widgets/controls",
          "model_name": "HTMLModel",
          "model_module_version": "1.5.0",
          "state": {
            "_view_name": "HTMLView",
            "style": "IPY_MODEL_214fd8c3173f4608909741974b795f03",
            "_dom_classes": [],
            "description": "",
            "_model_name": "HTMLModel",
            "placeholder": "​",
            "_view_module": "@jupyter-widgets/controls",
            "_model_module_version": "1.5.0",
            "value": " 2/2 [02:42&lt;00:00, 162.03s/it]",
            "_view_count": null,
            "_view_module_version": "1.5.0",
            "description_tooltip": null,
            "_model_module": "@jupyter-widgets/controls",
            "layout": "IPY_MODEL_62e801aed20d47efb76d5ed50a368be3"
          }
        },
        "ed8fd7a0003d4517bce0f7424ea46c2e": {
          "model_module": "@jupyter-widgets/controls",
          "model_name": "DescriptionStyleModel",
          "model_module_version": "1.5.0",
          "state": {
            "_view_name": "StyleView",
            "_model_name": "DescriptionStyleModel",
            "description_width": "",
            "_view_module": "@jupyter-widgets/base",
            "_model_module_version": "1.5.0",
            "_view_count": null,
            "_view_module_version": "1.2.0",
            "_model_module": "@jupyter-widgets/controls"
          }
        },
        "90176d86edb64d308c551b5249f2e551": {
          "model_module": "@jupyter-widgets/base",
          "model_name": "LayoutModel",
          "model_module_version": "1.2.0",
          "state": {
            "_view_name": "LayoutView",
            "grid_template_rows": null,
            "right": null,
            "justify_content": null,
            "_view_module": "@jupyter-widgets/base",
            "overflow": null,
            "_model_module_version": "1.2.0",
            "_view_count": null,
            "flex_flow": null,
            "width": null,
            "min_width": null,
            "border": null,
            "align_items": null,
            "bottom": null,
            "_model_module": "@jupyter-widgets/base",
            "top": null,
            "grid_column": null,
            "overflow_y": null,
            "overflow_x": null,
            "grid_auto_flow": null,
            "grid_area": null,
            "grid_template_columns": null,
            "flex": null,
            "_model_name": "LayoutModel",
            "justify_items": null,
            "grid_row": null,
            "max_height": null,
            "align_content": null,
            "visibility": null,
            "align_self": null,
            "height": null,
            "min_height": null,
            "padding": null,
            "grid_auto_rows": null,
            "grid_gap": null,
            "max_width": null,
            "order": null,
            "_view_module_version": "1.2.0",
            "grid_template_areas": null,
            "object_position": null,
            "object_fit": null,
            "grid_auto_columns": null,
            "margin": null,
            "display": null,
            "left": null
          }
        },
        "241b06774dc7443c8572011285b5fd3e": {
          "model_module": "@jupyter-widgets/controls",
          "model_name": "ProgressStyleModel",
          "model_module_version": "1.5.0",
          "state": {
            "_view_name": "StyleView",
            "_model_name": "ProgressStyleModel",
            "description_width": "",
            "_view_module": "@jupyter-widgets/base",
            "_model_module_version": "1.5.0",
            "_view_count": null,
            "_view_module_version": "1.2.0",
            "bar_color": null,
            "_model_module": "@jupyter-widgets/controls"
          }
        },
        "b465ded112cf418a865a71d2e0839ba9": {
          "model_module": "@jupyter-widgets/base",
          "model_name": "LayoutModel",
          "model_module_version": "1.2.0",
          "state": {
            "_view_name": "LayoutView",
            "grid_template_rows": null,
            "right": null,
            "justify_content": null,
            "_view_module": "@jupyter-widgets/base",
            "overflow": null,
            "_model_module_version": "1.2.0",
            "_view_count": null,
            "flex_flow": null,
            "width": null,
            "min_width": null,
            "border": null,
            "align_items": null,
            "bottom": null,
            "_model_module": "@jupyter-widgets/base",
            "top": null,
            "grid_column": null,
            "overflow_y": null,
            "overflow_x": null,
            "grid_auto_flow": null,
            "grid_area": null,
            "grid_template_columns": null,
            "flex": null,
            "_model_name": "LayoutModel",
            "justify_items": null,
            "grid_row": null,
            "max_height": null,
            "align_content": null,
            "visibility": null,
            "align_self": null,
            "height": null,
            "min_height": null,
            "padding": null,
            "grid_auto_rows": null,
            "grid_gap": null,
            "max_width": null,
            "order": null,
            "_view_module_version": "1.2.0",
            "grid_template_areas": null,
            "object_position": null,
            "object_fit": null,
            "grid_auto_columns": null,
            "margin": null,
            "display": null,
            "left": null
          }
        },
        "214fd8c3173f4608909741974b795f03": {
          "model_module": "@jupyter-widgets/controls",
          "model_name": "DescriptionStyleModel",
          "model_module_version": "1.5.0",
          "state": {
            "_view_name": "StyleView",
            "_model_name": "DescriptionStyleModel",
            "description_width": "",
            "_view_module": "@jupyter-widgets/base",
            "_model_module_version": "1.5.0",
            "_view_count": null,
            "_view_module_version": "1.2.0",
            "_model_module": "@jupyter-widgets/controls"
          }
        },
        "62e801aed20d47efb76d5ed50a368be3": {
          "model_module": "@jupyter-widgets/base",
          "model_name": "LayoutModel",
          "model_module_version": "1.2.0",
          "state": {
            "_view_name": "LayoutView",
            "grid_template_rows": null,
            "right": null,
            "justify_content": null,
            "_view_module": "@jupyter-widgets/base",
            "overflow": null,
            "_model_module_version": "1.2.0",
            "_view_count": null,
            "flex_flow": null,
            "width": null,
            "min_width": null,
            "border": null,
            "align_items": null,
            "bottom": null,
            "_model_module": "@jupyter-widgets/base",
            "top": null,
            "grid_column": null,
            "overflow_y": null,
            "overflow_x": null,
            "grid_auto_flow": null,
            "grid_area": null,
            "grid_template_columns": null,
            "flex": null,
            "_model_name": "LayoutModel",
            "justify_items": null,
            "grid_row": null,
            "max_height": null,
            "align_content": null,
            "visibility": null,
            "align_self": null,
            "height": null,
            "min_height": null,
            "padding": null,
            "grid_auto_rows": null,
            "grid_gap": null,
            "max_width": null,
            "order": null,
            "_view_module_version": "1.2.0",
            "grid_template_areas": null,
            "object_position": null,
            "object_fit": null,
            "grid_auto_columns": null,
            "margin": null,
            "display": null,
            "left": null
          }
        },
        "c7ff3cb4feea4966943187568b4567eb": {
          "model_module": "@jupyter-widgets/controls",
          "model_name": "HBoxModel",
          "model_module_version": "1.5.0",
          "state": {
            "_view_name": "HBoxView",
            "_dom_classes": [],
            "_model_name": "HBoxModel",
            "_view_module": "@jupyter-widgets/controls",
            "_model_module_version": "1.5.0",
            "_view_count": null,
            "_view_module_version": "1.5.0",
            "box_style": "",
            "layout": "IPY_MODEL_0020a0a983ed4903a2224aa6732e5363",
            "_model_module": "@jupyter-widgets/controls",
            "children": [
              "IPY_MODEL_8685745c36f547bba63a6fff5c8c20f8",
              "IPY_MODEL_49bf614d4c3e4f3ba383e50ea350da54",
              "IPY_MODEL_c09216c813be4e89a4a152a7e5af4882"
            ]
          }
        },
        "0020a0a983ed4903a2224aa6732e5363": {
          "model_module": "@jupyter-widgets/base",
          "model_name": "LayoutModel",
          "model_module_version": "1.2.0",
          "state": {
            "_view_name": "LayoutView",
            "grid_template_rows": null,
            "right": null,
            "justify_content": null,
            "_view_module": "@jupyter-widgets/base",
            "overflow": null,
            "_model_module_version": "1.2.0",
            "_view_count": null,
            "flex_flow": null,
            "width": null,
            "min_width": null,
            "border": null,
            "align_items": null,
            "bottom": null,
            "_model_module": "@jupyter-widgets/base",
            "top": null,
            "grid_column": null,
            "overflow_y": null,
            "overflow_x": null,
            "grid_auto_flow": null,
            "grid_area": null,
            "grid_template_columns": null,
            "flex": null,
            "_model_name": "LayoutModel",
            "justify_items": null,
            "grid_row": null,
            "max_height": null,
            "align_content": null,
            "visibility": null,
            "align_self": null,
            "height": null,
            "min_height": null,
            "padding": null,
            "grid_auto_rows": null,
            "grid_gap": null,
            "max_width": null,
            "order": null,
            "_view_module_version": "1.2.0",
            "grid_template_areas": null,
            "object_position": null,
            "object_fit": null,
            "grid_auto_columns": null,
            "margin": null,
            "display": null,
            "left": null
          }
        },
        "8685745c36f547bba63a6fff5c8c20f8": {
          "model_module": "@jupyter-widgets/controls",
          "model_name": "HTMLModel",
          "model_module_version": "1.5.0",
          "state": {
            "_view_name": "HTMLView",
            "style": "IPY_MODEL_28e13bb305504189a02c80a1b9b43289",
            "_dom_classes": [],
            "description": "",
            "_model_name": "HTMLModel",
            "placeholder": "​",
            "_view_module": "@jupyter-widgets/controls",
            "_model_module_version": "1.5.0",
            "value": "100%",
            "_view_count": null,
            "_view_module_version": "1.5.0",
            "description_tooltip": null,
            "_model_module": "@jupyter-widgets/controls",
            "layout": "IPY_MODEL_30cba577df0944cc94db5479085ae319"
          }
        },
        "49bf614d4c3e4f3ba383e50ea350da54": {
          "model_module": "@jupyter-widgets/controls",
          "model_name": "FloatProgressModel",
          "model_module_version": "1.5.0",
          "state": {
            "_view_name": "ProgressView",
            "style": "IPY_MODEL_9a6ebe1868d24f59a68ea007cb864e20",
            "_dom_classes": [],
            "description": "",
            "_model_name": "FloatProgressModel",
            "bar_style": "success",
            "max": 14,
            "_view_module": "@jupyter-widgets/controls",
            "_model_module_version": "1.5.0",
            "value": 14,
            "_view_count": null,
            "_view_module_version": "1.5.0",
            "orientation": "horizontal",
            "min": 0,
            "description_tooltip": null,
            "_model_module": "@jupyter-widgets/controls",
            "layout": "IPY_MODEL_f10f81d012a34e14b69792a18b96c397"
          }
        },
        "c09216c813be4e89a4a152a7e5af4882": {
          "model_module": "@jupyter-widgets/controls",
          "model_name": "HTMLModel",
          "model_module_version": "1.5.0",
          "state": {
            "_view_name": "HTMLView",
            "style": "IPY_MODEL_b8e7f38fb2e94289ad403f3ff64f2af8",
            "_dom_classes": [],
            "description": "",
            "_model_name": "HTMLModel",
            "placeholder": "​",
            "_view_module": "@jupyter-widgets/controls",
            "_model_module_version": "1.5.0",
            "value": " 14/14 [01:32&lt;00:00,  5.24s/it]",
            "_view_count": null,
            "_view_module_version": "1.5.0",
            "description_tooltip": null,
            "_model_module": "@jupyter-widgets/controls",
            "layout": "IPY_MODEL_74375b341460462d9fe5b006636864da"
          }
        },
        "28e13bb305504189a02c80a1b9b43289": {
          "model_module": "@jupyter-widgets/controls",
          "model_name": "DescriptionStyleModel",
          "model_module_version": "1.5.0",
          "state": {
            "_view_name": "StyleView",
            "_model_name": "DescriptionStyleModel",
            "description_width": "",
            "_view_module": "@jupyter-widgets/base",
            "_model_module_version": "1.5.0",
            "_view_count": null,
            "_view_module_version": "1.2.0",
            "_model_module": "@jupyter-widgets/controls"
          }
        },
        "30cba577df0944cc94db5479085ae319": {
          "model_module": "@jupyter-widgets/base",
          "model_name": "LayoutModel",
          "model_module_version": "1.2.0",
          "state": {
            "_view_name": "LayoutView",
            "grid_template_rows": null,
            "right": null,
            "justify_content": null,
            "_view_module": "@jupyter-widgets/base",
            "overflow": null,
            "_model_module_version": "1.2.0",
            "_view_count": null,
            "flex_flow": null,
            "width": null,
            "min_width": null,
            "border": null,
            "align_items": null,
            "bottom": null,
            "_model_module": "@jupyter-widgets/base",
            "top": null,
            "grid_column": null,
            "overflow_y": null,
            "overflow_x": null,
            "grid_auto_flow": null,
            "grid_area": null,
            "grid_template_columns": null,
            "flex": null,
            "_model_name": "LayoutModel",
            "justify_items": null,
            "grid_row": null,
            "max_height": null,
            "align_content": null,
            "visibility": null,
            "align_self": null,
            "height": null,
            "min_height": null,
            "padding": null,
            "grid_auto_rows": null,
            "grid_gap": null,
            "max_width": null,
            "order": null,
            "_view_module_version": "1.2.0",
            "grid_template_areas": null,
            "object_position": null,
            "object_fit": null,
            "grid_auto_columns": null,
            "margin": null,
            "display": null,
            "left": null
          }
        },
        "9a6ebe1868d24f59a68ea007cb864e20": {
          "model_module": "@jupyter-widgets/controls",
          "model_name": "ProgressStyleModel",
          "model_module_version": "1.5.0",
          "state": {
            "_view_name": "StyleView",
            "_model_name": "ProgressStyleModel",
            "description_width": "",
            "_view_module": "@jupyter-widgets/base",
            "_model_module_version": "1.5.0",
            "_view_count": null,
            "_view_module_version": "1.2.0",
            "bar_color": null,
            "_model_module": "@jupyter-widgets/controls"
          }
        },
        "f10f81d012a34e14b69792a18b96c397": {
          "model_module": "@jupyter-widgets/base",
          "model_name": "LayoutModel",
          "model_module_version": "1.2.0",
          "state": {
            "_view_name": "LayoutView",
            "grid_template_rows": null,
            "right": null,
            "justify_content": null,
            "_view_module": "@jupyter-widgets/base",
            "overflow": null,
            "_model_module_version": "1.2.0",
            "_view_count": null,
            "flex_flow": null,
            "width": null,
            "min_width": null,
            "border": null,
            "align_items": null,
            "bottom": null,
            "_model_module": "@jupyter-widgets/base",
            "top": null,
            "grid_column": null,
            "overflow_y": null,
            "overflow_x": null,
            "grid_auto_flow": null,
            "grid_area": null,
            "grid_template_columns": null,
            "flex": null,
            "_model_name": "LayoutModel",
            "justify_items": null,
            "grid_row": null,
            "max_height": null,
            "align_content": null,
            "visibility": null,
            "align_self": null,
            "height": null,
            "min_height": null,
            "padding": null,
            "grid_auto_rows": null,
            "grid_gap": null,
            "max_width": null,
            "order": null,
            "_view_module_version": "1.2.0",
            "grid_template_areas": null,
            "object_position": null,
            "object_fit": null,
            "grid_auto_columns": null,
            "margin": null,
            "display": null,
            "left": null
          }
        },
        "b8e7f38fb2e94289ad403f3ff64f2af8": {
          "model_module": "@jupyter-widgets/controls",
          "model_name": "DescriptionStyleModel",
          "model_module_version": "1.5.0",
          "state": {
            "_view_name": "StyleView",
            "_model_name": "DescriptionStyleModel",
            "description_width": "",
            "_view_module": "@jupyter-widgets/base",
            "_model_module_version": "1.5.0",
            "_view_count": null,
            "_view_module_version": "1.2.0",
            "_model_module": "@jupyter-widgets/controls"
          }
        },
        "74375b341460462d9fe5b006636864da": {
          "model_module": "@jupyter-widgets/base",
          "model_name": "LayoutModel",
          "model_module_version": "1.2.0",
          "state": {
            "_view_name": "LayoutView",
            "grid_template_rows": null,
            "right": null,
            "justify_content": null,
            "_view_module": "@jupyter-widgets/base",
            "overflow": null,
            "_model_module_version": "1.2.0",
            "_view_count": null,
            "flex_flow": null,
            "width": null,
            "min_width": null,
            "border": null,
            "align_items": null,
            "bottom": null,
            "_model_module": "@jupyter-widgets/base",
            "top": null,
            "grid_column": null,
            "overflow_y": null,
            "overflow_x": null,
            "grid_auto_flow": null,
            "grid_area": null,
            "grid_template_columns": null,
            "flex": null,
            "_model_name": "LayoutModel",
            "justify_items": null,
            "grid_row": null,
            "max_height": null,
            "align_content": null,
            "visibility": null,
            "align_self": null,
            "height": null,
            "min_height": null,
            "padding": null,
            "grid_auto_rows": null,
            "grid_gap": null,
            "max_width": null,
            "order": null,
            "_view_module_version": "1.2.0",
            "grid_template_areas": null,
            "object_position": null,
            "object_fit": null,
            "grid_auto_columns": null,
            "margin": null,
            "display": null,
            "left": null
          }
        }
      }
    }
  },
  "cells": [
    {
      "cell_type": "markdown",
      "source": [
        "## Загрузка данных"
      ],
      "metadata": {
        "id": "KWrjHXMiRsSk"
      }
    },
    {
      "cell_type": "code",
      "source": [
        "# скачиваем тесты с гугл диска\n",
        "# структура файла test.zip:\n",
        "#     test:\n",
        "#         1.mp4\n",
        "#         2.mp4\n",
        "#         ...\n",
        "!gdown -O test.zip https://drive.google.com/uc?id=1xnxF7k-a0OuPElPSn7PUc6VfovGoPm4H\n",
        "!unzip -u test.zip"
      ],
      "metadata": {
        "colab": {
          "base_uri": "https://localhost:8080/"
        },
        "id": "AAJA9syu4qD1",
        "outputId": "69b70a9f-fcad-4132-bf40-8d1a0010cd47"
      },
      "execution_count": 1,
      "outputs": [
        {
          "output_type": "stream",
          "name": "stdout",
          "text": [
            "Downloading...\n",
            "From: https://drive.google.com/uc?id=1xnxF7k-a0OuPElPSn7PUc6VfovGoPm4H\n",
            "To: /content/test.zip\n",
            "100% 69.1M/69.1M [00:00<00:00, 135MB/s] \n",
            "Archive:  test.zip\n",
            "  inflating: test/2.mp4              \n"
          ]
        }
      ]
    },
    {
      "cell_type": "code",
      "source": [
        "!rm -rf test/images\n",
        "!mkdir -p test/images"
      ],
      "metadata": {
        "id": "drjbujo_6lzb"
      },
      "execution_count": 2,
      "outputs": []
    },
    {
      "cell_type": "code",
      "source": [
        "%%capture\n",
        "!pip install git+https://github.com/openai/CLIP.git\n",
        "!wget https://getfile.dokpub.com/yandex/get/https://disk.yandex.ru/d/CHnmggS2yBp02Q -O ViT_B_32_epoch_2.pth #Скачиваем файл поулченный при обученни модели"
      ],
      "metadata": {
        "id": "8Vbg8Woy5RRR"
      },
      "execution_count": 3,
      "outputs": []
    },
    {
      "cell_type": "markdown",
      "source": [
        "## Загрузка модели"
      ],
      "metadata": {
        "id": "F8rnhc_WRfhg"
      }
    },
    {
      "cell_type": "code",
      "metadata": {
        "id": "0h71PuSEat9z"
      },
      "source": [
        "from tqdm.notebook import tqdm\n",
        "import os\n",
        "from collections import defaultdict\n",
        "import random\n",
        "\n",
        "import torch\n",
        "import torch.nn as nn\n",
        "import torch.optim as optim\n",
        "from torch.utils.data import Dataset\n",
        "from torchvision import datasets, models, transforms\n",
        "\n",
        "from PIL import Image\n",
        "import clip\n",
        "import cv2\n",
        "import json\n",
        "import numpy as np"
      ],
      "execution_count": 4,
      "outputs": []
    },
    {
      "cell_type": "code",
      "source": [
        "# для удобного взаимодействия, предстваим видео в формате отдельных изображений\n",
        "def convert2img(path2read: str, path2save: str, n: int = 10):\n",
        "    vidcap = cv2.VideoCapture(path2read)\n",
        "    filename = path2read.split(\"/\")[-1]\n",
        "    size = (224, 224)\n",
        "    count = 1\n",
        "\n",
        "    while True:\n",
        "        success, image = vidcap.read()\n",
        "        if not success:\n",
        "            break\n",
        "        if n and (count % n):\n",
        "            image = cv2.resize(image, size)\n",
        "            # формтат названия: {имя исходного видео}_{номер кадра видео}.png\n",
        "            cv2.imwrite(f\"{path2save}/{filename[:-4]}_{count}.png\", image)\n",
        "        else:\n",
        "            # формтат названия: {имя исходного видео}_{номер кадра видео}.png\n",
        "            cv2.imwrite(f\"{path2save}/{filename[:-4]}_{count}.png\", image)\n",
        "        count += 1\n",
        "\n",
        "    print(f\"Done: {filename[:100]}\")\n",
        "\n",
        "    vidcap.release()\n",
        "    return filename"
      ],
      "metadata": {
        "id": "EM-h2XyFQ9R_"
      },
      "execution_count": 5,
      "outputs": []
    },
    {
      "cell_type": "code",
      "source": [
        "device = torch.device('cuda' if torch.cuda.is_available() else 'cpu')\n",
        "model, preprocess = clip.load(\"ViT-B/32\", device=device)\n",
        "model = model.visual.float()"
      ],
      "metadata": {
        "id": "JIKbri28UZun",
        "colab": {
          "base_uri": "https://localhost:8080/"
        },
        "outputId": "2269a3e1-32c7-468c-8efd-fb1a5632cc21"
      },
      "execution_count": 6,
      "outputs": [
        {
          "output_type": "stream",
          "name": "stderr",
          "text": [
            "100%|████████████████████████████████████████| 338M/338M [00:01<00:00, 221MiB/s]\n"
          ]
        }
      ]
    },
    {
      "cell_type": "code",
      "metadata": {
        "id": "Xffd3h6fbwHP"
      },
      "source": [
        "class ViT_B_32(nn.Module):\n",
        "    def __init__(self, model):\n",
        "        super().__init__()\n",
        "        self.vit = model.to(device)\n",
        "        self.new_emb = nn.Linear(512, 384).to(device)\n",
        "        self.norm = nn.LayerNorm(384).to(device)\n",
        "        self.fc = nn.Linear(384, 2).to(device)\n",
        "\n",
        "    def forward(self, x):\n",
        "        h = self.vit(x).float()\n",
        "        h = self.new_emb(h).float()\n",
        "        h = self.norm(h).float()\n",
        "        h = self.fc(h).float()\n",
        "        return h"
      ],
      "execution_count": 7,
      "outputs": []
    },
    {
      "cell_type": "code",
      "metadata": {
        "id": "okwq2Vokat-J"
      },
      "source": [
        "random.seed(42)\n",
        "np.random.seed(42)\n",
        "torch.manual_seed(42)\n",
        "torch.cuda.manual_seed(42)\n",
        "\n",
        "model = ViT_B_32(model)"
      ],
      "execution_count": 8,
      "outputs": []
    },
    {
      "cell_type": "code",
      "source": [
        "PATH = \"ViT_B_32_epoch_2.pth\"\n",
        "model.load_state_dict(torch.load(PATH, map_location=torch.device(device)))\n",
        "model.eval()\n",
        "for x in model.parameters(): x.requires_grad = False"
      ],
      "metadata": {
        "id": "n11oWB5b50qP"
      },
      "execution_count": 9,
      "outputs": []
    },
    {
      "cell_type": "markdown",
      "source": [
        "### Подготовка теста"
      ],
      "metadata": {
        "id": "O2tkPxmSpJOL"
      }
    },
    {
      "cell_type": "code",
      "source": [
        "for filename in tqdm(os.listdir(\"test\")):\n",
        "    if filename.endswith(\".mp4\"):\n",
        "        convert2img(path2read=f\"test/{filename}\",\n",
        "                    path2save=\"test/images/\",\n",
        "                    n=0) # сохраняем каждый кадр"
      ],
      "metadata": {
        "colab": {
          "base_uri": "https://localhost:8080/",
          "height": 66,
          "referenced_widgets": [
            "f98ba93badb04ff3a8964695e5024914",
            "b8d72b6254004cd7aa708e229659dbfb",
            "d9f8c3c30f9c45c78f13bad64563da16",
            "c146a76465894c469d0d42be3fbec692",
            "21fc24c8a5c94ff2b0b273b507b8cb86",
            "ed8fd7a0003d4517bce0f7424ea46c2e",
            "90176d86edb64d308c551b5249f2e551",
            "241b06774dc7443c8572011285b5fd3e",
            "b465ded112cf418a865a71d2e0839ba9",
            "214fd8c3173f4608909741974b795f03",
            "62e801aed20d47efb76d5ed50a368be3"
          ]
        },
        "id": "Kadh5f_Lphmb",
        "outputId": "9db3dff8-b830-4922-ba77-09d4a9d7e3f5"
      },
      "execution_count": 10,
      "outputs": [
        {
          "output_type": "display_data",
          "data": {
            "application/vnd.jupyter.widget-view+json": {
              "model_id": "f98ba93badb04ff3a8964695e5024914",
              "version_minor": 0,
              "version_major": 2
            },
            "text/plain": [
              "  0%|          | 0/2 [00:00<?, ?it/s]"
            ]
          },
          "metadata": {}
        },
        {
          "output_type": "stream",
          "name": "stdout",
          "text": [
            "Done: 2.mp4\n"
          ]
        }
      ]
    },
    {
      "cell_type": "code",
      "source": [
        "test_data = os.listdir(\"test/images/\")"
      ],
      "metadata": {
        "id": "9Cua7l1QqTG2"
      },
      "execution_count": 11,
      "outputs": []
    },
    {
      "cell_type": "code",
      "metadata": {
        "id": "lNf3ag-Plq-7"
      },
      "source": [
        "class AccidentDatasetTest(Dataset):\n",
        "    def __init__(self, data_prep, transform=None,\n",
        "                 folder:str=\"/content/\"):\n",
        "        self.data_prep = data_prep\n",
        "        self.transform = transform\n",
        "        self.folder = folder\n",
        "\n",
        "    def __getitem__(self, idx):\n",
        "        image_name = self.data_prep[idx]\n",
        "        image = Image.open(os.path.join(self.folder, image_name))\n",
        "        if self.transform:\n",
        "            image = self.transform(image)\n",
        "        return image, image_name\n",
        "    \n",
        "    def __len__(self):\n",
        "        return len(self.data_prep)"
      ],
      "execution_count": 12,
      "outputs": []
    },
    {
      "cell_type": "code",
      "metadata": {
        "id": "J7-d7Q4xj7qw"
      },
      "source": [
        "test_dataset = AccidentDatasetTest(test_data, preprocess,\n",
        "                                   folder=\"test/images/\")\n",
        "\n",
        "test_loader = torch.utils.data.DataLoader(dataset=test_dataset,\n",
        "                                          batch_size=128,\n",
        "                                          pin_memory=True,\n",
        "                                          num_workers=2,\n",
        "                                          shuffle=False)"
      ],
      "execution_count": 13,
      "outputs": []
    },
    {
      "cell_type": "markdown",
      "source": [
        "### Прдесказание"
      ],
      "metadata": {
        "id": "lFxZB8RK63im"
      }
    },
    {
      "cell_type": "code",
      "metadata": {
        "colab": {
          "base_uri": "https://localhost:8080/",
          "height": 49,
          "referenced_widgets": [
            "c7ff3cb4feea4966943187568b4567eb",
            "0020a0a983ed4903a2224aa6732e5363",
            "8685745c36f547bba63a6fff5c8c20f8",
            "49bf614d4c3e4f3ba383e50ea350da54",
            "c09216c813be4e89a4a152a7e5af4882",
            "28e13bb305504189a02c80a1b9b43289",
            "30cba577df0944cc94db5479085ae319",
            "9a6ebe1868d24f59a68ea007cb864e20",
            "f10f81d012a34e14b69792a18b96c397",
            "b8e7f38fb2e94289ad403f3ff64f2af8",
            "74375b341460462d9fe5b006636864da"
          ]
        },
        "id": "EalpyoQTlAlx",
        "outputId": "53c3569e-2f51-4844-daad-af60af866925"
      },
      "source": [
        "test_pred = defaultdict(list)\n",
        "model.eval()\n",
        "with torch.no_grad():\n",
        "    for imgs, image_name in tqdm(test_loader):\n",
        "        imgs = imgs.to(device)\n",
        "        pred = model(imgs)\n",
        "        for pred_, filename in zip(pred.argmax(1).cpu().detach().numpy(),\n",
        "                                   image_name):\n",
        "            test_pred[int(filename.split(\"_\")[0])].append([filename, pred_])"
      ],
      "execution_count": 14,
      "outputs": [
        {
          "output_type": "display_data",
          "data": {
            "application/vnd.jupyter.widget-view+json": {
              "model_id": "c7ff3cb4feea4966943187568b4567eb",
              "version_minor": 0,
              "version_major": 2
            },
            "text/plain": [
              "  0%|          | 0/14 [00:00<?, ?it/s]"
            ]
          },
          "metadata": {}
        }
      ]
    },
    {
      "cell_type": "code",
      "source": [
        "for key in test_pred:\n",
        "    test_pred[key] = sorted(test_pred[key],\n",
        "                            key=lambda x: int(x[0].split(\"_\")[1][:-4]))"
      ],
      "metadata": {
        "id": "QJKiK4iwr543"
      },
      "execution_count": 15,
      "outputs": []
    },
    {
      "cell_type": "code",
      "source": [
        "final_output = defaultdict(list)\n",
        "threshold1 = 0.09\n",
        "threshold2 = 0.14\n",
        "for key in test_pred:\n",
        "    pred_targets = sum(i[1] for i in test_pred[key])\n",
        "    max_length = max(map(len, \"\".join(str(i[1]) for i in test_pred[key]).split(\"0\")))\n",
        "    score1 = max_length / len(test_pred[key])\n",
        "    score2 = pred_targets / len(test_pred[key])\n",
        "    # final_output[имя видео без .mp4][\"pred_by_img\"] - для просмотра предсказаний по каждому кадру\n",
        "    # final_output[имя видео без .mp4][\"result\"][2] - для просмотра предсказания по конкретному видео\n",
        "    final_output[int(key)] = {\"pred_by_img\": [[i[0], int(i[1])] for i in test_pred[key]],\n",
        "                              \"result\": [score1, score2, (score1 >= threshold1) or (score2 >= threshold2)]}"
      ],
      "metadata": {
        "id": "wWTnTBRgrsFz"
      },
      "execution_count": 16,
      "outputs": []
    },
    {
      "cell_type": "code",
      "source": [
        "with open(\"results.json\", \"w\") as f:\n",
        "    json.dump(final_output, f)"
      ],
      "metadata": {
        "id": "n47AAziHw6D5"
      },
      "execution_count": 17,
      "outputs": []
    },
    {
      "cell_type": "code",
      "source": [
        "for i in final_output.keys():\n",
        "  print('Имя файла: ' + str(i) + ', Результат: ' + str(final_output[i]['result']))"
      ],
      "metadata": {
        "colab": {
          "base_uri": "https://localhost:8080/"
        },
        "id": "qmCanUttYdds",
        "outputId": "f80de5d9-2381-4fba-e499-14d23c606fcf"
      },
      "execution_count": 28,
      "outputs": [
        {
          "output_type": "stream",
          "name": "stdout",
          "text": [
            "Имя файла: 2, Результат: [1.0, 1.0, True]\n"
          ]
        }
      ]
    },
    {
      "cell_type": "code",
      "source": [
        ""
      ],
      "metadata": {
        "id": "k0ED150HoYGn"
      },
      "execution_count": null,
      "outputs": []
    }
  ]
}