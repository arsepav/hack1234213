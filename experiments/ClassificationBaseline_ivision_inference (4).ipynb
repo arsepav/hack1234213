{
  "nbformat": 4,
  "nbformat_minor": 0,
  "metadata": {
    "kernelspec": {
      "name": "python3",
      "display_name": "Python 3"
    },
    "colab": {
      "name": "ClassificationBaseline_ivision_inference.ipynb",
      "provenance": [],
      "machine_shape": "hm"
    },
    "language_info": {
      "name": "python"
    },
    "accelerator": "GPU",
    "widgets": {
      "application/vnd.jupyter.widget-state+json": {
        "acf1311d713d4ed5a1784f774acd452e": {
          "model_module": "@jupyter-widgets/controls",
          "model_name": "HBoxModel",
          "model_module_version": "1.5.0",
          "state": {
            "_view_name": "HBoxView",
            "_dom_classes": [],
            "_model_name": "HBoxModel",
            "_view_module": "@jupyter-widgets/controls",
            "_model_module_version": "1.5.0",
            "_view_count": null,
            "_view_module_version": "1.5.0",
            "box_style": "",
            "layout": "IPY_MODEL_2332b615a04e416a998cd19ee680fd26",
            "_model_module": "@jupyter-widgets/controls",
            "children": [
              "IPY_MODEL_116c7b85493247e891bec7b2394fd709",
              "IPY_MODEL_5641138c22d94704852413eb48a250b4",
              "IPY_MODEL_837a08e09b9a475bb5c1af94121803b3"
            ]
          }
        },
        "2332b615a04e416a998cd19ee680fd26": {
          "model_module": "@jupyter-widgets/base",
          "model_name": "LayoutModel",
          "model_module_version": "1.2.0",
          "state": {
            "_view_name": "LayoutView",
            "grid_template_rows": null,
            "right": null,
            "justify_content": null,
            "_view_module": "@jupyter-widgets/base",
            "overflow": null,
            "_model_module_version": "1.2.0",
            "_view_count": null,
            "flex_flow": null,
            "width": null,
            "min_width": null,
            "border": null,
            "align_items": null,
            "bottom": null,
            "_model_module": "@jupyter-widgets/base",
            "top": null,
            "grid_column": null,
            "overflow_y": null,
            "overflow_x": null,
            "grid_auto_flow": null,
            "grid_area": null,
            "grid_template_columns": null,
            "flex": null,
            "_model_name": "LayoutModel",
            "justify_items": null,
            "grid_row": null,
            "max_height": null,
            "align_content": null,
            "visibility": null,
            "align_self": null,
            "height": null,
            "min_height": null,
            "padding": null,
            "grid_auto_rows": null,
            "grid_gap": null,
            "max_width": null,
            "order": null,
            "_view_module_version": "1.2.0",
            "grid_template_areas": null,
            "object_position": null,
            "object_fit": null,
            "grid_auto_columns": null,
            "margin": null,
            "display": null,
            "left": null
          }
        },
        "116c7b85493247e891bec7b2394fd709": {
          "model_module": "@jupyter-widgets/controls",
          "model_name": "HTMLModel",
          "model_module_version": "1.5.0",
          "state": {
            "_view_name": "HTMLView",
            "style": "IPY_MODEL_6d4695c03f4e4039920e8d29d41e202d",
            "_dom_classes": [],
            "description": "",
            "_model_name": "HTMLModel",
            "placeholder": "​",
            "_view_module": "@jupyter-widgets/controls",
            "_model_module_version": "1.5.0",
            "value": "100%",
            "_view_count": null,
            "_view_module_version": "1.5.0",
            "description_tooltip": null,
            "_model_module": "@jupyter-widgets/controls",
            "layout": "IPY_MODEL_fccc712196ae4aa5811158139cd10f74"
          }
        },
        "5641138c22d94704852413eb48a250b4": {
          "model_module": "@jupyter-widgets/controls",
          "model_name": "FloatProgressModel",
          "model_module_version": "1.5.0",
          "state": {
            "_view_name": "ProgressView",
            "style": "IPY_MODEL_9efe3aaab74541c18df8dbeadc94bb7e",
            "_dom_classes": [],
            "description": "",
            "_model_name": "FloatProgressModel",
            "bar_style": "success",
            "max": 9,
            "_view_module": "@jupyter-widgets/controls",
            "_model_module_version": "1.5.0",
            "value": 9,
            "_view_count": null,
            "_view_module_version": "1.5.0",
            "orientation": "horizontal",
            "min": 0,
            "description_tooltip": null,
            "_model_module": "@jupyter-widgets/controls",
            "layout": "IPY_MODEL_8d02a5cdcca74ffdb242502e1cb771b9"
          }
        },
        "837a08e09b9a475bb5c1af94121803b3": {
          "model_module": "@jupyter-widgets/controls",
          "model_name": "HTMLModel",
          "model_module_version": "1.5.0",
          "state": {
            "_view_name": "HTMLView",
            "style": "IPY_MODEL_1524df5e48c6484396918533f0562638",
            "_dom_classes": [],
            "description": "",
            "_model_name": "HTMLModel",
            "placeholder": "​",
            "_view_module": "@jupyter-widgets/controls",
            "_model_module_version": "1.5.0",
            "value": " 9/9 [02:20&lt;00:00, 13.81s/it]",
            "_view_count": null,
            "_view_module_version": "1.5.0",
            "description_tooltip": null,
            "_model_module": "@jupyter-widgets/controls",
            "layout": "IPY_MODEL_af45e145c7fd4f0ebd7a20a86e321297"
          }
        },
        "6d4695c03f4e4039920e8d29d41e202d": {
          "model_module": "@jupyter-widgets/controls",
          "model_name": "DescriptionStyleModel",
          "model_module_version": "1.5.0",
          "state": {
            "_view_name": "StyleView",
            "_model_name": "DescriptionStyleModel",
            "description_width": "",
            "_view_module": "@jupyter-widgets/base",
            "_model_module_version": "1.5.0",
            "_view_count": null,
            "_view_module_version": "1.2.0",
            "_model_module": "@jupyter-widgets/controls"
          }
        },
        "fccc712196ae4aa5811158139cd10f74": {
          "model_module": "@jupyter-widgets/base",
          "model_name": "LayoutModel",
          "model_module_version": "1.2.0",
          "state": {
            "_view_name": "LayoutView",
            "grid_template_rows": null,
            "right": null,
            "justify_content": null,
            "_view_module": "@jupyter-widgets/base",
            "overflow": null,
            "_model_module_version": "1.2.0",
            "_view_count": null,
            "flex_flow": null,
            "width": null,
            "min_width": null,
            "border": null,
            "align_items": null,
            "bottom": null,
            "_model_module": "@jupyter-widgets/base",
            "top": null,
            "grid_column": null,
            "overflow_y": null,
            "overflow_x": null,
            "grid_auto_flow": null,
            "grid_area": null,
            "grid_template_columns": null,
            "flex": null,
            "_model_name": "LayoutModel",
            "justify_items": null,
            "grid_row": null,
            "max_height": null,
            "align_content": null,
            "visibility": null,
            "align_self": null,
            "height": null,
            "min_height": null,
            "padding": null,
            "grid_auto_rows": null,
            "grid_gap": null,
            "max_width": null,
            "order": null,
            "_view_module_version": "1.2.0",
            "grid_template_areas": null,
            "object_position": null,
            "object_fit": null,
            "grid_auto_columns": null,
            "margin": null,
            "display": null,
            "left": null
          }
        },
        "9efe3aaab74541c18df8dbeadc94bb7e": {
          "model_module": "@jupyter-widgets/controls",
          "model_name": "ProgressStyleModel",
          "model_module_version": "1.5.0",
          "state": {
            "_view_name": "StyleView",
            "_model_name": "ProgressStyleModel",
            "description_width": "",
            "_view_module": "@jupyter-widgets/base",
            "_model_module_version": "1.5.0",
            "_view_count": null,
            "_view_module_version": "1.2.0",
            "bar_color": null,
            "_model_module": "@jupyter-widgets/controls"
          }
        },
        "8d02a5cdcca74ffdb242502e1cb771b9": {
          "model_module": "@jupyter-widgets/base",
          "model_name": "LayoutModel",
          "model_module_version": "1.2.0",
          "state": {
            "_view_name": "LayoutView",
            "grid_template_rows": null,
            "right": null,
            "justify_content": null,
            "_view_module": "@jupyter-widgets/base",
            "overflow": null,
            "_model_module_version": "1.2.0",
            "_view_count": null,
            "flex_flow": null,
            "width": null,
            "min_width": null,
            "border": null,
            "align_items": null,
            "bottom": null,
            "_model_module": "@jupyter-widgets/base",
            "top": null,
            "grid_column": null,
            "overflow_y": null,
            "overflow_x": null,
            "grid_auto_flow": null,
            "grid_area": null,
            "grid_template_columns": null,
            "flex": null,
            "_model_name": "LayoutModel",
            "justify_items": null,
            "grid_row": null,
            "max_height": null,
            "align_content": null,
            "visibility": null,
            "align_self": null,
            "height": null,
            "min_height": null,
            "padding": null,
            "grid_auto_rows": null,
            "grid_gap": null,
            "max_width": null,
            "order": null,
            "_view_module_version": "1.2.0",
            "grid_template_areas": null,
            "object_position": null,
            "object_fit": null,
            "grid_auto_columns": null,
            "margin": null,
            "display": null,
            "left": null
          }
        },
        "1524df5e48c6484396918533f0562638": {
          "model_module": "@jupyter-widgets/controls",
          "model_name": "DescriptionStyleModel",
          "model_module_version": "1.5.0",
          "state": {
            "_view_name": "StyleView",
            "_model_name": "DescriptionStyleModel",
            "description_width": "",
            "_view_module": "@jupyter-widgets/base",
            "_model_module_version": "1.5.0",
            "_view_count": null,
            "_view_module_version": "1.2.0",
            "_model_module": "@jupyter-widgets/controls"
          }
        },
        "af45e145c7fd4f0ebd7a20a86e321297": {
          "model_module": "@jupyter-widgets/base",
          "model_name": "LayoutModel",
          "model_module_version": "1.2.0",
          "state": {
            "_view_name": "LayoutView",
            "grid_template_rows": null,
            "right": null,
            "justify_content": null,
            "_view_module": "@jupyter-widgets/base",
            "overflow": null,
            "_model_module_version": "1.2.0",
            "_view_count": null,
            "flex_flow": null,
            "width": null,
            "min_width": null,
            "border": null,
            "align_items": null,
            "bottom": null,
            "_model_module": "@jupyter-widgets/base",
            "top": null,
            "grid_column": null,
            "overflow_y": null,
            "overflow_x": null,
            "grid_auto_flow": null,
            "grid_area": null,
            "grid_template_columns": null,
            "flex": null,
            "_model_name": "LayoutModel",
            "justify_items": null,
            "grid_row": null,
            "max_height": null,
            "align_content": null,
            "visibility": null,
            "align_self": null,
            "height": null,
            "min_height": null,
            "padding": null,
            "grid_auto_rows": null,
            "grid_gap": null,
            "max_width": null,
            "order": null,
            "_view_module_version": "1.2.0",
            "grid_template_areas": null,
            "object_position": null,
            "object_fit": null,
            "grid_auto_columns": null,
            "margin": null,
            "display": null,
            "left": null
          }
        },
        "e9b7ab083b3745c6935b182f9e7991d9": {
          "model_module": "@jupyter-widgets/controls",
          "model_name": "HBoxModel",
          "model_module_version": "1.5.0",
          "state": {
            "_view_name": "HBoxView",
            "_dom_classes": [],
            "_model_name": "HBoxModel",
            "_view_module": "@jupyter-widgets/controls",
            "_model_module_version": "1.5.0",
            "_view_count": null,
            "_view_module_version": "1.5.0",
            "box_style": "",
            "layout": "IPY_MODEL_b2f405a236f24074b0ab1db84b4f38ad",
            "_model_module": "@jupyter-widgets/controls",
            "children": [
              "IPY_MODEL_68961412fdcb4bfda8315ef6034c1eed",
              "IPY_MODEL_3e15645c067b4de8b8b6a74c97b0331a",
              "IPY_MODEL_7cd7a5eaae294a89acf3bfc4fd1f2603"
            ]
          }
        },
        "b2f405a236f24074b0ab1db84b4f38ad": {
          "model_module": "@jupyter-widgets/base",
          "model_name": "LayoutModel",
          "model_module_version": "1.2.0",
          "state": {
            "_view_name": "LayoutView",
            "grid_template_rows": null,
            "right": null,
            "justify_content": null,
            "_view_module": "@jupyter-widgets/base",
            "overflow": null,
            "_model_module_version": "1.2.0",
            "_view_count": null,
            "flex_flow": null,
            "width": null,
            "min_width": null,
            "border": null,
            "align_items": null,
            "bottom": null,
            "_model_module": "@jupyter-widgets/base",
            "top": null,
            "grid_column": null,
            "overflow_y": null,
            "overflow_x": null,
            "grid_auto_flow": null,
            "grid_area": null,
            "grid_template_columns": null,
            "flex": null,
            "_model_name": "LayoutModel",
            "justify_items": null,
            "grid_row": null,
            "max_height": null,
            "align_content": null,
            "visibility": null,
            "align_self": null,
            "height": null,
            "min_height": null,
            "padding": null,
            "grid_auto_rows": null,
            "grid_gap": null,
            "max_width": null,
            "order": null,
            "_view_module_version": "1.2.0",
            "grid_template_areas": null,
            "object_position": null,
            "object_fit": null,
            "grid_auto_columns": null,
            "margin": null,
            "display": null,
            "left": null
          }
        },
        "68961412fdcb4bfda8315ef6034c1eed": {
          "model_module": "@jupyter-widgets/controls",
          "model_name": "HTMLModel",
          "model_module_version": "1.5.0",
          "state": {
            "_view_name": "HTMLView",
            "style": "IPY_MODEL_8cc208b94cc14de4a8fd2382099c1872",
            "_dom_classes": [],
            "description": "",
            "_model_name": "HTMLModel",
            "placeholder": "​",
            "_view_module": "@jupyter-widgets/controls",
            "_model_module_version": "1.5.0",
            "value": "100%",
            "_view_count": null,
            "_view_module_version": "1.5.0",
            "description_tooltip": null,
            "_model_module": "@jupyter-widgets/controls",
            "layout": "IPY_MODEL_b24f67538a3f43e98f089603ba6af786"
          }
        },
        "3e15645c067b4de8b8b6a74c97b0331a": {
          "model_module": "@jupyter-widgets/controls",
          "model_name": "FloatProgressModel",
          "model_module_version": "1.5.0",
          "state": {
            "_view_name": "ProgressView",
            "style": "IPY_MODEL_5ec5e555988b4bc0b6e644249625f5d6",
            "_dom_classes": [],
            "description": "",
            "_model_name": "FloatProgressModel",
            "bar_style": "success",
            "max": 56,
            "_view_module": "@jupyter-widgets/controls",
            "_model_module_version": "1.5.0",
            "value": 56,
            "_view_count": null,
            "_view_module_version": "1.5.0",
            "orientation": "horizontal",
            "min": 0,
            "description_tooltip": null,
            "_model_module": "@jupyter-widgets/controls",
            "layout": "IPY_MODEL_2294625243264ce996000db154877c5a"
          }
        },
        "7cd7a5eaae294a89acf3bfc4fd1f2603": {
          "model_module": "@jupyter-widgets/controls",
          "model_name": "HTMLModel",
          "model_module_version": "1.5.0",
          "state": {
            "_view_name": "HTMLView",
            "style": "IPY_MODEL_375a263de5a048f09d43f271db563b53",
            "_dom_classes": [],
            "description": "",
            "_model_name": "HTMLModel",
            "placeholder": "​",
            "_view_module": "@jupyter-widgets/controls",
            "_model_module_version": "1.5.0",
            "value": " 56/56 [00:58&lt;00:00,  1.09it/s]",
            "_view_count": null,
            "_view_module_version": "1.5.0",
            "description_tooltip": null,
            "_model_module": "@jupyter-widgets/controls",
            "layout": "IPY_MODEL_ff124504ebad449890c75b1ed8b60d13"
          }
        },
        "8cc208b94cc14de4a8fd2382099c1872": {
          "model_module": "@jupyter-widgets/controls",
          "model_name": "DescriptionStyleModel",
          "model_module_version": "1.5.0",
          "state": {
            "_view_name": "StyleView",
            "_model_name": "DescriptionStyleModel",
            "description_width": "",
            "_view_module": "@jupyter-widgets/base",
            "_model_module_version": "1.5.0",
            "_view_count": null,
            "_view_module_version": "1.2.0",
            "_model_module": "@jupyter-widgets/controls"
          }
        },
        "b24f67538a3f43e98f089603ba6af786": {
          "model_module": "@jupyter-widgets/base",
          "model_name": "LayoutModel",
          "model_module_version": "1.2.0",
          "state": {
            "_view_name": "LayoutView",
            "grid_template_rows": null,
            "right": null,
            "justify_content": null,
            "_view_module": "@jupyter-widgets/base",
            "overflow": null,
            "_model_module_version": "1.2.0",
            "_view_count": null,
            "flex_flow": null,
            "width": null,
            "min_width": null,
            "border": null,
            "align_items": null,
            "bottom": null,
            "_model_module": "@jupyter-widgets/base",
            "top": null,
            "grid_column": null,
            "overflow_y": null,
            "overflow_x": null,
            "grid_auto_flow": null,
            "grid_area": null,
            "grid_template_columns": null,
            "flex": null,
            "_model_name": "LayoutModel",
            "justify_items": null,
            "grid_row": null,
            "max_height": null,
            "align_content": null,
            "visibility": null,
            "align_self": null,
            "height": null,
            "min_height": null,
            "padding": null,
            "grid_auto_rows": null,
            "grid_gap": null,
            "max_width": null,
            "order": null,
            "_view_module_version": "1.2.0",
            "grid_template_areas": null,
            "object_position": null,
            "object_fit": null,
            "grid_auto_columns": null,
            "margin": null,
            "display": null,
            "left": null
          }
        },
        "5ec5e555988b4bc0b6e644249625f5d6": {
          "model_module": "@jupyter-widgets/controls",
          "model_name": "ProgressStyleModel",
          "model_module_version": "1.5.0",
          "state": {
            "_view_name": "StyleView",
            "_model_name": "ProgressStyleModel",
            "description_width": "",
            "_view_module": "@jupyter-widgets/base",
            "_model_module_version": "1.5.0",
            "_view_count": null,
            "_view_module_version": "1.2.0",
            "bar_color": null,
            "_model_module": "@jupyter-widgets/controls"
          }
        },
        "2294625243264ce996000db154877c5a": {
          "model_module": "@jupyter-widgets/base",
          "model_name": "LayoutModel",
          "model_module_version": "1.2.0",
          "state": {
            "_view_name": "LayoutView",
            "grid_template_rows": null,
            "right": null,
            "justify_content": null,
            "_view_module": "@jupyter-widgets/base",
            "overflow": null,
            "_model_module_version": "1.2.0",
            "_view_count": null,
            "flex_flow": null,
            "width": null,
            "min_width": null,
            "border": null,
            "align_items": null,
            "bottom": null,
            "_model_module": "@jupyter-widgets/base",
            "top": null,
            "grid_column": null,
            "overflow_y": null,
            "overflow_x": null,
            "grid_auto_flow": null,
            "grid_area": null,
            "grid_template_columns": null,
            "flex": null,
            "_model_name": "LayoutModel",
            "justify_items": null,
            "grid_row": null,
            "max_height": null,
            "align_content": null,
            "visibility": null,
            "align_self": null,
            "height": null,
            "min_height": null,
            "padding": null,
            "grid_auto_rows": null,
            "grid_gap": null,
            "max_width": null,
            "order": null,
            "_view_module_version": "1.2.0",
            "grid_template_areas": null,
            "object_position": null,
            "object_fit": null,
            "grid_auto_columns": null,
            "margin": null,
            "display": null,
            "left": null
          }
        },
        "375a263de5a048f09d43f271db563b53": {
          "model_module": "@jupyter-widgets/controls",
          "model_name": "DescriptionStyleModel",
          "model_module_version": "1.5.0",
          "state": {
            "_view_name": "StyleView",
            "_model_name": "DescriptionStyleModel",
            "description_width": "",
            "_view_module": "@jupyter-widgets/base",
            "_model_module_version": "1.5.0",
            "_view_count": null,
            "_view_module_version": "1.2.0",
            "_model_module": "@jupyter-widgets/controls"
          }
        },
        "ff124504ebad449890c75b1ed8b60d13": {
          "model_module": "@jupyter-widgets/base",
          "model_name": "LayoutModel",
          "model_module_version": "1.2.0",
          "state": {
            "_view_name": "LayoutView",
            "grid_template_rows": null,
            "right": null,
            "justify_content": null,
            "_view_module": "@jupyter-widgets/base",
            "overflow": null,
            "_model_module_version": "1.2.0",
            "_view_count": null,
            "flex_flow": null,
            "width": null,
            "min_width": null,
            "border": null,
            "align_items": null,
            "bottom": null,
            "_model_module": "@jupyter-widgets/base",
            "top": null,
            "grid_column": null,
            "overflow_y": null,
            "overflow_x": null,
            "grid_auto_flow": null,
            "grid_area": null,
            "grid_template_columns": null,
            "flex": null,
            "_model_name": "LayoutModel",
            "justify_items": null,
            "grid_row": null,
            "max_height": null,
            "align_content": null,
            "visibility": null,
            "align_self": null,
            "height": null,
            "min_height": null,
            "padding": null,
            "grid_auto_rows": null,
            "grid_gap": null,
            "max_width": null,
            "order": null,
            "_view_module_version": "1.2.0",
            "grid_template_areas": null,
            "object_position": null,
            "object_fit": null,
            "grid_auto_columns": null,
            "margin": null,
            "display": null,
            "left": null
          }
        }
      }
    }
  },
  "cells": [
    {
      "cell_type": "markdown",
      "source": [
        "## Загрузка данных"
      ],
      "metadata": {
        "id": "KWrjHXMiRsSk"
      }
    },
    {
      "cell_type": "code",
      "source": [
        "# скачиваем тесты с гугл диска\n",
        "# структура файла test.zip:\n",
        "#     test:\n",
        "#         1.mp4\n",
        "#         2.mp4\n",
        "#         ...\n",
        "#!gdown -O test.zip https://drive.google.com/file/d/1gHXrHCj-hPA4GVMhw78x_XojumCpJuEP\n",
        "!wget https://getfile.dokpub.com/yandex/get/https://disk.yandex.ru/d/eS4bFalHtBhVtw -O test.zip\n",
        "!unzip -u test.zip"
      ],
      "metadata": {
        "colab": {
          "base_uri": "https://localhost:8080/"
        },
        "id": "AAJA9syu4qD1",
        "outputId": "c433df08-dd42-4767-e4cc-a81a52437489"
      },
      "execution_count": 48,
      "outputs": [
        {
          "output_type": "stream",
          "name": "stdout",
          "text": [
            "--2022-01-14 08:53:33--  https://getfile.dokpub.com/yandex/get/https://disk.yandex.ru/d/eS4bFalHtBhVtw\n",
            "Resolving getfile.dokpub.com (getfile.dokpub.com)... 78.46.92.107\n",
            "Connecting to getfile.dokpub.com (getfile.dokpub.com)|78.46.92.107|:443... connected.\n",
            "HTTP request sent, awaiting response... 302 Moved Temporarily\n",
            "Location: https://downloader.disk.yandex.ru/disk/4cad627a1513bb439c35d0c85b8b0c40e091d88ae113cda01e2c50b8a18b77d6/61e16bdc/zloUprfc3fildk6WwD-Yu2xYTGWO94mq6hQ1fCqPgRGmv9hZm12BoVgM5T-QeI6W4DX0Pn5xeNWe6R7V5EtZbg%3D%3D?uid=0&filename=test.zip&disposition=attachment&hash=ouy0htSIiIC7v4zLGEpBixHAqp8zW5s05L1dhX8n40SMSRBZAWKFn2NRbUGsO7fxq/J6bpmRyOJonT3VoXnDag%3D%3D%3A&limit=0&content_type=application%2Fzip&owner_uid=394876167&fsize=144206300&hid=24cf9edd041d5d2f3a46ba13c2694ca4&media_type=compressed&tknv=v2 [following]\n",
            "--2022-01-14 08:53:33--  https://downloader.disk.yandex.ru/disk/4cad627a1513bb439c35d0c85b8b0c40e091d88ae113cda01e2c50b8a18b77d6/61e16bdc/zloUprfc3fildk6WwD-Yu2xYTGWO94mq6hQ1fCqPgRGmv9hZm12BoVgM5T-QeI6W4DX0Pn5xeNWe6R7V5EtZbg%3D%3D?uid=0&filename=test.zip&disposition=attachment&hash=ouy0htSIiIC7v4zLGEpBixHAqp8zW5s05L1dhX8n40SMSRBZAWKFn2NRbUGsO7fxq/J6bpmRyOJonT3VoXnDag%3D%3D%3A&limit=0&content_type=application%2Fzip&owner_uid=394876167&fsize=144206300&hid=24cf9edd041d5d2f3a46ba13c2694ca4&media_type=compressed&tknv=v2\n",
            "Resolving downloader.disk.yandex.ru (downloader.disk.yandex.ru)... 77.88.21.127, 2a02:6b8::2:127\n",
            "Connecting to downloader.disk.yandex.ru (downloader.disk.yandex.ru)|77.88.21.127|:443... connected.\n",
            "HTTP request sent, awaiting response... 302 Found\n",
            "Location: https://s438vla.storage.yandex.net/rdisk/4cad627a1513bb439c35d0c85b8b0c40e091d88ae113cda01e2c50b8a18b77d6/61e16bdc/zloUprfc3fildk6WwD-Yu2xYTGWO94mq6hQ1fCqPgRGmv9hZm12BoVgM5T-QeI6W4DX0Pn5xeNWe6R7V5EtZbg==?uid=0&filename=test.zip&disposition=attachment&hash=ouy0htSIiIC7v4zLGEpBixHAqp8zW5s05L1dhX8n40SMSRBZAWKFn2NRbUGsO7fxq/J6bpmRyOJonT3VoXnDag%3D%3D%3A&limit=0&content_type=application%2Fzip&owner_uid=394876167&fsize=144206300&hid=24cf9edd041d5d2f3a46ba13c2694ca4&media_type=compressed&tknv=v2&rtoken=ugwn6HmnTIXK&force_default=no&ycrid=na-79c0c30fa187fe3da2bcd39f663f7074-downloader21f&ts=5d589e80daf00&s=72f232ca8e1f8f2384e9c4485442e0a838e753f1c9fb92ce909d8b0fd5498d53&pb=U2FsdGVkX18drw06FMTPk6hozz_x6cSJqHWf9WoMBR2BRnZL9ZOc2LcywbzUM6Ln9UTHosfpU97UbB_M_HL4Z4jFzr9CaOouwLYxzN-GCM8 [following]\n",
            "--2022-01-14 08:53:34--  https://s438vla.storage.yandex.net/rdisk/4cad627a1513bb439c35d0c85b8b0c40e091d88ae113cda01e2c50b8a18b77d6/61e16bdc/zloUprfc3fildk6WwD-Yu2xYTGWO94mq6hQ1fCqPgRGmv9hZm12BoVgM5T-QeI6W4DX0Pn5xeNWe6R7V5EtZbg==?uid=0&filename=test.zip&disposition=attachment&hash=ouy0htSIiIC7v4zLGEpBixHAqp8zW5s05L1dhX8n40SMSRBZAWKFn2NRbUGsO7fxq/J6bpmRyOJonT3VoXnDag%3D%3D%3A&limit=0&content_type=application%2Fzip&owner_uid=394876167&fsize=144206300&hid=24cf9edd041d5d2f3a46ba13c2694ca4&media_type=compressed&tknv=v2&rtoken=ugwn6HmnTIXK&force_default=no&ycrid=na-79c0c30fa187fe3da2bcd39f663f7074-downloader21f&ts=5d589e80daf00&s=72f232ca8e1f8f2384e9c4485442e0a838e753f1c9fb92ce909d8b0fd5498d53&pb=U2FsdGVkX18drw06FMTPk6hozz_x6cSJqHWf9WoMBR2BRnZL9ZOc2LcywbzUM6Ln9UTHosfpU97UbB_M_HL4Z4jFzr9CaOouwLYxzN-GCM8\n",
            "Resolving s438vla.storage.yandex.net (s438vla.storage.yandex.net)... 141.8.129.185, 2a02:6b8:c0e:b38:0:41af:c7a1:b687\n",
            "Connecting to s438vla.storage.yandex.net (s438vla.storage.yandex.net)|141.8.129.185|:443... connected.\n",
            "HTTP request sent, awaiting response... 200 OK\n",
            "Length: 144206300 (138M) [application/zip]\n",
            "Saving to: ‘test.zip’\n",
            "\n",
            "test.zip            100%[===================>] 137.53M  24.5MB/s    in 6.5s    \n",
            "\n",
            "2022-01-14 08:53:41 (21.2 MB/s) - ‘test.zip’ saved [144206300/144206300]\n",
            "\n",
            "Archive:  test.zip\n",
            "  inflating: test/17.mp4             \n",
            "  inflating: test/33.mp4             \n"
          ]
        }
      ]
    },
    {
      "cell_type": "code",
      "source": [
        "!rm -rf test/images\n",
        "!mkdir -p test/images"
      ],
      "metadata": {
        "id": "drjbujo_6lzb"
      },
      "execution_count": 49,
      "outputs": []
    },
    {
      "cell_type": "code",
      "source": [
        "%%capture\n",
        "!pip install git+https://github.com/openai/CLIP.git\n",
        "!wget https://getfile.dokpub.com/yandex/get/https://disk.yandex.ru/d/CHnmggS2yBp02Q -O ViT_B_32_epoch_2.pth #Скачиваем файл поулченный при обученни модели"
      ],
      "metadata": {
        "id": "8Vbg8Woy5RRR"
      },
      "execution_count": 50,
      "outputs": []
    },
    {
      "cell_type": "markdown",
      "source": [
        "## Загрузка модели"
      ],
      "metadata": {
        "id": "F8rnhc_WRfhg"
      }
    },
    {
      "cell_type": "code",
      "metadata": {
        "id": "0h71PuSEat9z"
      },
      "source": [
        "from tqdm.notebook import tqdm\n",
        "import os\n",
        "from collections import defaultdict\n",
        "import random\n",
        "\n",
        "import torch\n",
        "import torch.nn as nn\n",
        "import torch.optim as optim\n",
        "from torch.utils.data import Dataset\n",
        "from torchvision import datasets, models, transforms\n",
        "\n",
        "from PIL import Image\n",
        "import clip\n",
        "import cv2\n",
        "import json\n",
        "import numpy as np"
      ],
      "execution_count": 51,
      "outputs": []
    },
    {
      "cell_type": "code",
      "source": [
        "# для удобного взаимодействия, предстваим видео в формате отдельных изображений\n",
        "def convert2img(path2read: str, path2save: str, n: int = 10):\n",
        "    vidcap = cv2.VideoCapture(path2read)\n",
        "    filename = path2read.split(\"/\")[-1]\n",
        "    size = (224, 224)\n",
        "    count = 1\n",
        "\n",
        "    while True:\n",
        "        success, image = vidcap.read()\n",
        "        if not success:\n",
        "            break\n",
        "        if n and (count % n):\n",
        "            image = cv2.resize(image, size)\n",
        "            # формтат названия: {имя исходного видео}_{номер кадра видео}.png\n",
        "            cv2.imwrite(f\"{path2save}/{filename[:-4]}_{count}.png\", image)\n",
        "        else:\n",
        "            # формтат названия: {имя исходного видео}_{номер кадра видео}.png\n",
        "            cv2.imwrite(f\"{path2save}/{filename[:-4]}_{count}.png\", image)\n",
        "        count += 1\n",
        "\n",
        "    print(f\"Done: {filename[:100]}\")\n",
        "\n",
        "    vidcap.release()\n",
        "    return filename"
      ],
      "metadata": {
        "id": "EM-h2XyFQ9R_"
      },
      "execution_count": 52,
      "outputs": []
    },
    {
      "cell_type": "code",
      "source": [
        "device = torch.device('cuda' if torch.cuda.is_available() else 'cpu')\n",
        "model, preprocess = clip.load(\"ViT-B/32\", device=device)\n",
        "model = model.visual.float()"
      ],
      "metadata": {
        "id": "JIKbri28UZun"
      },
      "execution_count": 53,
      "outputs": []
    },
    {
      "cell_type": "code",
      "metadata": {
        "id": "Xffd3h6fbwHP"
      },
      "source": [
        "class ViT_B_32(nn.Module):\n",
        "    def __init__(self, model):\n",
        "        super().__init__()\n",
        "        self.vit = model.to(device)\n",
        "        self.new_emb = nn.Linear(512, 384).to(device)\n",
        "        self.norm = nn.LayerNorm(384).to(device)\n",
        "        self.fc = nn.Linear(384, 2).to(device)\n",
        "\n",
        "    def forward(self, x):\n",
        "        h = self.vit(x).float()\n",
        "        h = self.new_emb(h).float()\n",
        "        h = self.norm(h).float()\n",
        "        h = self.fc(h).float()\n",
        "        return h"
      ],
      "execution_count": 54,
      "outputs": []
    },
    {
      "cell_type": "code",
      "metadata": {
        "id": "okwq2Vokat-J"
      },
      "source": [
        "random.seed(42)\n",
        "np.random.seed(42)\n",
        "torch.manual_seed(42)\n",
        "torch.cuda.manual_seed(42)\n",
        "\n",
        "model = ViT_B_32(model)"
      ],
      "execution_count": 55,
      "outputs": []
    },
    {
      "cell_type": "code",
      "source": [
        "PATH = \"ViT_B_32_epoch_2.pth\"\n",
        "model.load_state_dict(torch.load(PATH, map_location=torch.device(device)))\n",
        "model.eval()\n",
        "for x in model.parameters(): x.requires_grad = False"
      ],
      "metadata": {
        "id": "n11oWB5b50qP"
      },
      "execution_count": 56,
      "outputs": []
    },
    {
      "cell_type": "markdown",
      "source": [
        "### Подготовка теста"
      ],
      "metadata": {
        "id": "O2tkPxmSpJOL"
      }
    },
    {
      "cell_type": "code",
      "source": [
        "for filename in tqdm(os.listdir(\"test\")):\n",
        "    if filename.endswith(\".mp4\"):\n",
        "        convert2img(path2read=f\"test/{filename}\",\n",
        "                    path2save=\"test/images/\",\n",
        "                    n=10) # сохраняем каждый кадр"
      ],
      "metadata": {
        "colab": {
          "base_uri": "https://localhost:8080/",
          "height": 171,
          "referenced_widgets": [
            "acf1311d713d4ed5a1784f774acd452e",
            "2332b615a04e416a998cd19ee680fd26",
            "116c7b85493247e891bec7b2394fd709",
            "5641138c22d94704852413eb48a250b4",
            "837a08e09b9a475bb5c1af94121803b3",
            "6d4695c03f4e4039920e8d29d41e202d",
            "fccc712196ae4aa5811158139cd10f74",
            "9efe3aaab74541c18df8dbeadc94bb7e",
            "8d02a5cdcca74ffdb242502e1cb771b9",
            "1524df5e48c6484396918533f0562638",
            "af45e145c7fd4f0ebd7a20a86e321297"
          ]
        },
        "id": "Kadh5f_Lphmb",
        "outputId": "c8037b02-6cbd-4a27-e9c6-a0fc87fa2a3d"
      },
      "execution_count": 57,
      "outputs": [
        {
          "output_type": "display_data",
          "data": {
            "application/vnd.jupyter.widget-view+json": {
              "model_id": "acf1311d713d4ed5a1784f774acd452e",
              "version_minor": 0,
              "version_major": 2
            },
            "text/plain": [
              "  0%|          | 0/9 [00:00<?, ?it/s]"
            ]
          },
          "metadata": {}
        },
        {
          "output_type": "stream",
          "name": "stdout",
          "text": [
            "Done: 2.mp4\n",
            "Done: 17.mp4\n",
            "Done: 3.mp4\n",
            "Done: 33.mp4\n",
            "Done: 5.mp4\n",
            "Done: 20.mp4\n",
            "Done: 6.mp4\n"
          ]
        }
      ]
    },
    {
      "cell_type": "code",
      "source": [
        "test_data = os.listdir(\"test/images/\")"
      ],
      "metadata": {
        "id": "9Cua7l1QqTG2"
      },
      "execution_count": 58,
      "outputs": []
    },
    {
      "cell_type": "code",
      "metadata": {
        "id": "lNf3ag-Plq-7"
      },
      "source": [
        "class AccidentDatasetTest(Dataset):\n",
        "    def __init__(self, data_prep, transform=None,\n",
        "                 folder:str=\"/content/\"):\n",
        "        self.data_prep = data_prep\n",
        "        self.transform = transform\n",
        "        self.folder = folder\n",
        "\n",
        "    def __getitem__(self, idx):\n",
        "        image_name = self.data_prep[idx]\n",
        "        image = Image.open(os.path.join(self.folder, image_name))\n",
        "        if self.transform:\n",
        "            image = self.transform(image)\n",
        "        return image, image_name\n",
        "    \n",
        "    def __len__(self):\n",
        "        return len(self.data_prep)"
      ],
      "execution_count": 59,
      "outputs": []
    },
    {
      "cell_type": "code",
      "metadata": {
        "id": "J7-d7Q4xj7qw"
      },
      "source": [
        "test_dataset = AccidentDatasetTest(test_data, preprocess,\n",
        "                                   folder=\"test/images/\")\n",
        "\n",
        "test_loader = torch.utils.data.DataLoader(dataset=test_dataset,\n",
        "                                          batch_size=128,\n",
        "                                          pin_memory=True,\n",
        "                                          num_workers=2,\n",
        "                                          shuffle=False)"
      ],
      "execution_count": 60,
      "outputs": []
    },
    {
      "cell_type": "markdown",
      "source": [
        "### Прдесказание"
      ],
      "metadata": {
        "id": "lFxZB8RK63im"
      }
    },
    {
      "cell_type": "code",
      "metadata": {
        "colab": {
          "base_uri": "https://localhost:8080/",
          "height": 49,
          "referenced_widgets": [
            "e9b7ab083b3745c6935b182f9e7991d9",
            "b2f405a236f24074b0ab1db84b4f38ad",
            "68961412fdcb4bfda8315ef6034c1eed",
            "3e15645c067b4de8b8b6a74c97b0331a",
            "7cd7a5eaae294a89acf3bfc4fd1f2603",
            "8cc208b94cc14de4a8fd2382099c1872",
            "b24f67538a3f43e98f089603ba6af786",
            "5ec5e555988b4bc0b6e644249625f5d6",
            "2294625243264ce996000db154877c5a",
            "375a263de5a048f09d43f271db563b53",
            "ff124504ebad449890c75b1ed8b60d13"
          ]
        },
        "id": "EalpyoQTlAlx",
        "outputId": "d6e61690-5a29-4e37-9ce7-e1866a5c34cf"
      },
      "source": [
        "test_pred = defaultdict(list)\n",
        "model.eval()\n",
        "with torch.no_grad():\n",
        "    for imgs, image_name in tqdm(test_loader):\n",
        "        imgs = imgs.to(device)\n",
        "        pred = model(imgs)\n",
        "        for pred_, filename in zip(pred.argmax(1).cpu().detach().numpy(),\n",
        "                                   image_name):\n",
        "            test_pred[int(filename.split(\"_\")[0])].append([filename, pred_])"
      ],
      "execution_count": 61,
      "outputs": [
        {
          "output_type": "display_data",
          "data": {
            "application/vnd.jupyter.widget-view+json": {
              "model_id": "e9b7ab083b3745c6935b182f9e7991d9",
              "version_minor": 0,
              "version_major": 2
            },
            "text/plain": [
              "  0%|          | 0/56 [00:00<?, ?it/s]"
            ]
          },
          "metadata": {}
        }
      ]
    },
    {
      "cell_type": "code",
      "source": [
        "for key in test_pred:\n",
        "    test_pred[key] = sorted(test_pred[key],\n",
        "                            key=lambda x: int(x[0].split(\"_\")[1][:-4]))"
      ],
      "metadata": {
        "id": "QJKiK4iwr543"
      },
      "execution_count": 62,
      "outputs": []
    },
    {
      "cell_type": "code",
      "source": [
        "final_output = defaultdict(list)\n",
        "threshold1 = 0.09\n",
        "threshold2 = 0.14\n",
        "for key in test_pred:\n",
        "    pred_targets = sum(i[1] for i in test_pred[key])\n",
        "    max_length = max(map(len, \"\".join(str(i[1]) for i in test_pred[key]).split(\"0\")))\n",
        "    score1 = max_length / len(test_pred[key])\n",
        "    score2 = pred_targets / len(test_pred[key])\n",
        "    # final_output[имя видео без .mp4][\"pred_by_img\"] - для просмотра предсказаний по каждому кадру\n",
        "    # final_output[имя видео без .mp4][\"result\"][2] - для просмотра предсказания по конкретному видео\n",
        "    final_output[int(key)] = {\"pred_by_img\": [[i[0], int(i[1])] for i in test_pred[key]],\n",
        "                              \"result\": [score1, score2, (score1 >= threshold1) or (score2 >= threshold2)]}"
      ],
      "metadata": {
        "id": "wWTnTBRgrsFz"
      },
      "execution_count": 63,
      "outputs": []
    },
    {
      "cell_type": "code",
      "source": [
        "#with open(\"results.json\", \"w\") as f:\n",
        "#    json.dump(final_output, f)"
      ],
      "metadata": {
        "id": "n47AAziHw6D5",
        "colab": {
          "base_uri": "https://localhost:8080/",
          "height": 328
        },
        "outputId": "3f543bdb-8c9e-4a5d-e519-53aba7c904bf"
      },
      "execution_count": 64,
      "outputs": [
        {
          "output_type": "error",
          "ename": "TypeError",
          "evalue": "ignored",
          "traceback": [
            "\u001b[0;31m---------------------------------------------------------------------------\u001b[0m",
            "\u001b[0;31mTypeError\u001b[0m                                 Traceback (most recent call last)",
            "\u001b[0;32m<ipython-input-64-16c40b0af56b>\u001b[0m in \u001b[0;36m<module>\u001b[0;34m()\u001b[0m\n\u001b[1;32m      1\u001b[0m \u001b[0;32mwith\u001b[0m \u001b[0mopen\u001b[0m\u001b[0;34m(\u001b[0m\u001b[0;34m\"results.json\"\u001b[0m\u001b[0;34m,\u001b[0m \u001b[0;34m\"w\"\u001b[0m\u001b[0;34m)\u001b[0m \u001b[0;32mas\u001b[0m \u001b[0mf\u001b[0m\u001b[0;34m:\u001b[0m\u001b[0;34m\u001b[0m\u001b[0;34m\u001b[0m\u001b[0m\n\u001b[0;32m----> 2\u001b[0;31m     \u001b[0mjson\u001b[0m\u001b[0;34m.\u001b[0m\u001b[0mdump\u001b[0m\u001b[0;34m(\u001b[0m\u001b[0mfinal_output\u001b[0m\u001b[0;34m,\u001b[0m \u001b[0mf\u001b[0m\u001b[0;34m)\u001b[0m\u001b[0;34m\u001b[0m\u001b[0;34m\u001b[0m\u001b[0m\n\u001b[0m",
            "\u001b[0;32m/usr/lib/python3.7/json/__init__.py\u001b[0m in \u001b[0;36mdump\u001b[0;34m(obj, fp, skipkeys, ensure_ascii, check_circular, allow_nan, cls, indent, separators, default, sort_keys, **kw)\u001b[0m\n\u001b[1;32m    177\u001b[0m     \u001b[0;31m# could accelerate with writelines in some versions of Python, at\u001b[0m\u001b[0;34m\u001b[0m\u001b[0;34m\u001b[0m\u001b[0;34m\u001b[0m\u001b[0m\n\u001b[1;32m    178\u001b[0m     \u001b[0;31m# a debuggability cost\u001b[0m\u001b[0;34m\u001b[0m\u001b[0;34m\u001b[0m\u001b[0;34m\u001b[0m\u001b[0m\n\u001b[0;32m--> 179\u001b[0;31m     \u001b[0;32mfor\u001b[0m \u001b[0mchunk\u001b[0m \u001b[0;32min\u001b[0m \u001b[0miterable\u001b[0m\u001b[0;34m:\u001b[0m\u001b[0;34m\u001b[0m\u001b[0;34m\u001b[0m\u001b[0m\n\u001b[0m\u001b[1;32m    180\u001b[0m         \u001b[0mfp\u001b[0m\u001b[0;34m.\u001b[0m\u001b[0mwrite\u001b[0m\u001b[0;34m(\u001b[0m\u001b[0mchunk\u001b[0m\u001b[0;34m)\u001b[0m\u001b[0;34m\u001b[0m\u001b[0;34m\u001b[0m\u001b[0m\n\u001b[1;32m    181\u001b[0m \u001b[0;34m\u001b[0m\u001b[0m\n",
            "\u001b[0;32m/usr/lib/python3.7/json/encoder.py\u001b[0m in \u001b[0;36m_iterencode\u001b[0;34m(o, _current_indent_level)\u001b[0m\n\u001b[1;32m    429\u001b[0m             \u001b[0;32myield\u001b[0m \u001b[0;32mfrom\u001b[0m \u001b[0m_iterencode_list\u001b[0m\u001b[0;34m(\u001b[0m\u001b[0mo\u001b[0m\u001b[0;34m,\u001b[0m \u001b[0m_current_indent_level\u001b[0m\u001b[0;34m)\u001b[0m\u001b[0;34m\u001b[0m\u001b[0;34m\u001b[0m\u001b[0m\n\u001b[1;32m    430\u001b[0m         \u001b[0;32melif\u001b[0m \u001b[0misinstance\u001b[0m\u001b[0;34m(\u001b[0m\u001b[0mo\u001b[0m\u001b[0;34m,\u001b[0m \u001b[0mdict\u001b[0m\u001b[0;34m)\u001b[0m\u001b[0;34m:\u001b[0m\u001b[0;34m\u001b[0m\u001b[0;34m\u001b[0m\u001b[0m\n\u001b[0;32m--> 431\u001b[0;31m             \u001b[0;32myield\u001b[0m \u001b[0;32mfrom\u001b[0m \u001b[0m_iterencode_dict\u001b[0m\u001b[0;34m(\u001b[0m\u001b[0mo\u001b[0m\u001b[0;34m,\u001b[0m \u001b[0m_current_indent_level\u001b[0m\u001b[0;34m)\u001b[0m\u001b[0;34m\u001b[0m\u001b[0;34m\u001b[0m\u001b[0m\n\u001b[0m\u001b[1;32m    432\u001b[0m         \u001b[0;32melse\u001b[0m\u001b[0;34m:\u001b[0m\u001b[0;34m\u001b[0m\u001b[0;34m\u001b[0m\u001b[0m\n\u001b[1;32m    433\u001b[0m             \u001b[0;32mif\u001b[0m \u001b[0mmarkers\u001b[0m \u001b[0;32mis\u001b[0m \u001b[0;32mnot\u001b[0m \u001b[0;32mNone\u001b[0m\u001b[0;34m:\u001b[0m\u001b[0;34m\u001b[0m\u001b[0;34m\u001b[0m\u001b[0m\n",
            "\u001b[0;32m/usr/lib/python3.7/json/encoder.py\u001b[0m in \u001b[0;36m_iterencode_dict\u001b[0;34m(dct, _current_indent_level)\u001b[0m\n\u001b[1;32m    403\u001b[0m                 \u001b[0;32melse\u001b[0m\u001b[0;34m:\u001b[0m\u001b[0;34m\u001b[0m\u001b[0;34m\u001b[0m\u001b[0m\n\u001b[1;32m    404\u001b[0m                     \u001b[0mchunks\u001b[0m \u001b[0;34m=\u001b[0m \u001b[0m_iterencode\u001b[0m\u001b[0;34m(\u001b[0m\u001b[0mvalue\u001b[0m\u001b[0;34m,\u001b[0m \u001b[0m_current_indent_level\u001b[0m\u001b[0;34m)\u001b[0m\u001b[0;34m\u001b[0m\u001b[0;34m\u001b[0m\u001b[0m\n\u001b[0;32m--> 405\u001b[0;31m                 \u001b[0;32myield\u001b[0m \u001b[0;32mfrom\u001b[0m \u001b[0mchunks\u001b[0m\u001b[0;34m\u001b[0m\u001b[0;34m\u001b[0m\u001b[0m\n\u001b[0m\u001b[1;32m    406\u001b[0m         \u001b[0;32mif\u001b[0m \u001b[0mnewline_indent\u001b[0m \u001b[0;32mis\u001b[0m \u001b[0;32mnot\u001b[0m \u001b[0;32mNone\u001b[0m\u001b[0;34m:\u001b[0m\u001b[0;34m\u001b[0m\u001b[0;34m\u001b[0m\u001b[0m\n\u001b[1;32m    407\u001b[0m             \u001b[0m_current_indent_level\u001b[0m \u001b[0;34m-=\u001b[0m \u001b[0;36m1\u001b[0m\u001b[0;34m\u001b[0m\u001b[0;34m\u001b[0m\u001b[0m\n",
            "\u001b[0;32m/usr/lib/python3.7/json/encoder.py\u001b[0m in \u001b[0;36m_iterencode_dict\u001b[0;34m(dct, _current_indent_level)\u001b[0m\n\u001b[1;32m    403\u001b[0m                 \u001b[0;32melse\u001b[0m\u001b[0;34m:\u001b[0m\u001b[0;34m\u001b[0m\u001b[0;34m\u001b[0m\u001b[0m\n\u001b[1;32m    404\u001b[0m                     \u001b[0mchunks\u001b[0m \u001b[0;34m=\u001b[0m \u001b[0m_iterencode\u001b[0m\u001b[0;34m(\u001b[0m\u001b[0mvalue\u001b[0m\u001b[0;34m,\u001b[0m \u001b[0m_current_indent_level\u001b[0m\u001b[0;34m)\u001b[0m\u001b[0;34m\u001b[0m\u001b[0;34m\u001b[0m\u001b[0m\n\u001b[0;32m--> 405\u001b[0;31m                 \u001b[0;32myield\u001b[0m \u001b[0;32mfrom\u001b[0m \u001b[0mchunks\u001b[0m\u001b[0;34m\u001b[0m\u001b[0;34m\u001b[0m\u001b[0m\n\u001b[0m\u001b[1;32m    406\u001b[0m         \u001b[0;32mif\u001b[0m \u001b[0mnewline_indent\u001b[0m \u001b[0;32mis\u001b[0m \u001b[0;32mnot\u001b[0m \u001b[0;32mNone\u001b[0m\u001b[0;34m:\u001b[0m\u001b[0;34m\u001b[0m\u001b[0;34m\u001b[0m\u001b[0m\n\u001b[1;32m    407\u001b[0m             \u001b[0m_current_indent_level\u001b[0m \u001b[0;34m-=\u001b[0m \u001b[0;36m1\u001b[0m\u001b[0;34m\u001b[0m\u001b[0;34m\u001b[0m\u001b[0m\n",
            "\u001b[0;32m/usr/lib/python3.7/json/encoder.py\u001b[0m in \u001b[0;36m_iterencode_list\u001b[0;34m(lst, _current_indent_level)\u001b[0m\n\u001b[1;32m    323\u001b[0m                 \u001b[0;32melse\u001b[0m\u001b[0;34m:\u001b[0m\u001b[0;34m\u001b[0m\u001b[0;34m\u001b[0m\u001b[0m\n\u001b[1;32m    324\u001b[0m                     \u001b[0mchunks\u001b[0m \u001b[0;34m=\u001b[0m \u001b[0m_iterencode\u001b[0m\u001b[0;34m(\u001b[0m\u001b[0mvalue\u001b[0m\u001b[0;34m,\u001b[0m \u001b[0m_current_indent_level\u001b[0m\u001b[0;34m)\u001b[0m\u001b[0;34m\u001b[0m\u001b[0;34m\u001b[0m\u001b[0m\n\u001b[0;32m--> 325\u001b[0;31m                 \u001b[0;32myield\u001b[0m \u001b[0;32mfrom\u001b[0m \u001b[0mchunks\u001b[0m\u001b[0;34m\u001b[0m\u001b[0;34m\u001b[0m\u001b[0m\n\u001b[0m\u001b[1;32m    326\u001b[0m         \u001b[0;32mif\u001b[0m \u001b[0mnewline_indent\u001b[0m \u001b[0;32mis\u001b[0m \u001b[0;32mnot\u001b[0m \u001b[0;32mNone\u001b[0m\u001b[0;34m:\u001b[0m\u001b[0;34m\u001b[0m\u001b[0;34m\u001b[0m\u001b[0m\n\u001b[1;32m    327\u001b[0m             \u001b[0m_current_indent_level\u001b[0m \u001b[0;34m-=\u001b[0m \u001b[0;36m1\u001b[0m\u001b[0;34m\u001b[0m\u001b[0;34m\u001b[0m\u001b[0m\n",
            "\u001b[0;32m/usr/lib/python3.7/json/encoder.py\u001b[0m in \u001b[0;36m_iterencode\u001b[0;34m(o, _current_indent_level)\u001b[0m\n\u001b[1;32m    436\u001b[0m                     \u001b[0;32mraise\u001b[0m \u001b[0mValueError\u001b[0m\u001b[0;34m(\u001b[0m\u001b[0;34m\"Circular reference detected\"\u001b[0m\u001b[0;34m)\u001b[0m\u001b[0;34m\u001b[0m\u001b[0;34m\u001b[0m\u001b[0m\n\u001b[1;32m    437\u001b[0m                 \u001b[0mmarkers\u001b[0m\u001b[0;34m[\u001b[0m\u001b[0mmarkerid\u001b[0m\u001b[0;34m]\u001b[0m \u001b[0;34m=\u001b[0m \u001b[0mo\u001b[0m\u001b[0;34m\u001b[0m\u001b[0;34m\u001b[0m\u001b[0m\n\u001b[0;32m--> 438\u001b[0;31m             \u001b[0mo\u001b[0m \u001b[0;34m=\u001b[0m \u001b[0m_default\u001b[0m\u001b[0;34m(\u001b[0m\u001b[0mo\u001b[0m\u001b[0;34m)\u001b[0m\u001b[0;34m\u001b[0m\u001b[0;34m\u001b[0m\u001b[0m\n\u001b[0m\u001b[1;32m    439\u001b[0m             \u001b[0;32myield\u001b[0m \u001b[0;32mfrom\u001b[0m \u001b[0m_iterencode\u001b[0m\u001b[0;34m(\u001b[0m\u001b[0mo\u001b[0m\u001b[0;34m,\u001b[0m \u001b[0m_current_indent_level\u001b[0m\u001b[0;34m)\u001b[0m\u001b[0;34m\u001b[0m\u001b[0;34m\u001b[0m\u001b[0m\n\u001b[1;32m    440\u001b[0m             \u001b[0;32mif\u001b[0m \u001b[0mmarkers\u001b[0m \u001b[0;32mis\u001b[0m \u001b[0;32mnot\u001b[0m \u001b[0;32mNone\u001b[0m\u001b[0;34m:\u001b[0m\u001b[0;34m\u001b[0m\u001b[0;34m\u001b[0m\u001b[0m\n",
            "\u001b[0;32m/usr/lib/python3.7/json/encoder.py\u001b[0m in \u001b[0;36mdefault\u001b[0;34m(self, o)\u001b[0m\n\u001b[1;32m    177\u001b[0m \u001b[0;34m\u001b[0m\u001b[0m\n\u001b[1;32m    178\u001b[0m         \"\"\"\n\u001b[0;32m--> 179\u001b[0;31m         raise TypeError(f'Object of type {o.__class__.__name__} '\n\u001b[0m\u001b[1;32m    180\u001b[0m                         f'is not JSON serializable')\n\u001b[1;32m    181\u001b[0m \u001b[0;34m\u001b[0m\u001b[0m\n",
            "\u001b[0;31mTypeError\u001b[0m: Object of type bool_ is not JSON serializable"
          ]
        }
      ]
    },
    {
      "cell_type": "code",
      "source": [
        "for i in final_output.keys():\n",
        "  print('Имя файла: ' + str(i) + ', Результат: ' + str(final_output[i]['result']))"
      ],
      "metadata": {
        "colab": {
          "base_uri": "https://localhost:8080/"
        },
        "id": "qmCanUttYdds",
        "outputId": "9f411046-a110-4032-b06a-e80e3c2fa5ec"
      },
      "execution_count": 65,
      "outputs": [
        {
          "output_type": "stream",
          "name": "stdout",
          "text": [
            "Имя файла: 17, Результат: [0.0, 0.0, False]\n",
            "Имя файла: 2, Результат: [1.0, 1.0, True]\n",
            "Имя файла: 33, Результат: [1.0, 1.0, True]\n",
            "Имя файла: 5, Результат: [1.0, 1.0, True]\n",
            "Имя файла: 3, Результат: [0.0, 0.0, False]\n",
            "Имя файла: 6, Результат: [0.001256281407035176, 0.002512562814070352, False]\n",
            "Имя файла: 20, Результат: [0.001277139208173691, 0.09961685823754789, False]\n"
          ]
        }
      ]
    },
    {
      "cell_type": "code",
      "source": [
        ""
      ],
      "metadata": {
        "id": "k0ED150HoYGn"
      },
      "execution_count": null,
      "outputs": []
    }
  ]
}